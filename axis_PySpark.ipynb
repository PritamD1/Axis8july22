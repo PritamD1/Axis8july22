{
  "nbformat": 4,
  "nbformat_minor": 0,
  "metadata": {
    "colab": {
      "name": "axis_PySpark.ipynb",
      "provenance": [],
      "collapsed_sections": [],
      "authorship_tag": "ABX9TyP54iPGtuhi9aecz0G8MqW6",
      "include_colab_link": true
    },
    "kernelspec": {
      "name": "python3",
      "display_name": "Python 3"
    },
    "language_info": {
      "name": "python"
    }
  },
  "cells": [
    {
      "cell_type": "markdown",
      "metadata": {
        "id": "view-in-github",
        "colab_type": "text"
      },
      "source": [
        "<a href=\"https://colab.research.google.com/github/PritamD1/Axis8july22/blob/main/axis_PySpark.ipynb\" target=\"_parent\"><img src=\"https://colab.research.google.com/assets/colab-badge.svg\" alt=\"Open In Colab\"/></a>"
      ]
    },
    {
      "cell_type": "code",
      "execution_count": null,
      "metadata": {
        "id": "v8gbt1W3Rsju"
      },
      "outputs": [],
      "source": [
        ""
      ]
    },
    {
      "cell_type": "code",
      "source": [
        ""
      ],
      "metadata": {
        "id": "_4ciQrACIGv1"
      },
      "execution_count": null,
      "outputs": []
    },
    {
      "cell_type": "code",
      "source": [
        "pip install pyspark\n"
      ],
      "metadata": {
        "colab": {
          "base_uri": "https://localhost:8080/"
        },
        "id": "wKzXejAGR1Zz",
        "outputId": "6d55d5f1-8e9c-4306-d3d2-450f67022794"
      },
      "execution_count": null,
      "outputs": [
        {
          "output_type": "stream",
          "name": "stdout",
          "text": [
            "Looking in indexes: https://pypi.org/simple, https://us-python.pkg.dev/colab-wheels/public/simple/\n",
            "Collecting pyspark\n",
            "  Downloading pyspark-3.3.0.tar.gz (281.3 MB)\n",
            "\u001b[K     |████████████████████████████████| 281.3 MB 46 kB/s \n",
            "\u001b[?25hCollecting py4j==0.10.9.5\n",
            "  Downloading py4j-0.10.9.5-py2.py3-none-any.whl (199 kB)\n",
            "\u001b[K     |████████████████████████████████| 199 kB 44.4 MB/s \n",
            "\u001b[?25hBuilding wheels for collected packages: pyspark\n",
            "  Building wheel for pyspark (setup.py) ... \u001b[?25l\u001b[?25hdone\n",
            "  Created wheel for pyspark: filename=pyspark-3.3.0-py2.py3-none-any.whl size=281764026 sha256=a7420ad5a3b17ff3acff5618c842b84fe584b06adbc8e130a33da04e6fa3aaa3\n",
            "  Stored in directory: /root/.cache/pip/wheels/7a/8e/1b/f73a52650d2e5f337708d9f6a1750d451a7349a867f928b885\n",
            "Successfully built pyspark\n",
            "Installing collected packages: py4j, pyspark\n",
            "Successfully installed py4j-0.10.9.5 pyspark-3.3.0\n"
          ]
        }
      ]
    },
    {
      "cell_type": "code",
      "source": [
        "a=10\n",
        "b=15\n",
        "print(a+b)"
      ],
      "metadata": {
        "colab": {
          "base_uri": "https://localhost:8080/"
        },
        "id": "zNDb_T35SEjD",
        "outputId": "da95cb4e-1f24-4ea5-e89f-ef627fc38aa8"
      },
      "execution_count": null,
      "outputs": [
        {
          "output_type": "stream",
          "name": "stdout",
          "text": [
            "25\n"
          ]
        }
      ]
    },
    {
      "cell_type": "code",
      "source": [
        "import pandas as pd\n",
        "df = pd.read_csv(\"/content/sample_data/california_housing_train.csv\")\n",
        "print(df)\n"
      ],
      "metadata": {
        "id": "PcU-bbdnTjCN"
      },
      "execution_count": null,
      "outputs": []
    },
    {
      "cell_type": "code",
      "source": [
        "import pandas as pd\n",
        "\n",
        "df=pd.read_csv(\"/content/sample_data/california_housing_train.csv\")\n",
        "\n",
        "print(df)"
      ],
      "metadata": {
        "colab": {
          "base_uri": "https://localhost:8080/",
          "height": 244
        },
        "id": "woc7tqWuXzel",
        "outputId": "e4ade808-6c9d-4d8b-9431-dca2b15b2568"
      },
      "execution_count": null,
      "outputs": [
        {
          "output_type": "error",
          "ename": "TypeError",
          "evalue": "ignored",
          "traceback": [
            "\u001b[0;31m---------------------------------------------------------------------------\u001b[0m",
            "\u001b[0;31mTypeError\u001b[0m                                 Traceback (most recent call last)",
            "\u001b[0;32m<ipython-input-17-11670753ec04>\u001b[0m in \u001b[0;36m<module>\u001b[0;34m()\u001b[0m\n\u001b[1;32m      1\u001b[0m \u001b[0;32mimport\u001b[0m \u001b[0mpandas\u001b[0m \u001b[0;32mas\u001b[0m \u001b[0mpd\u001b[0m\u001b[0;34m\u001b[0m\u001b[0;34m\u001b[0m\u001b[0m\n\u001b[1;32m      2\u001b[0m \u001b[0;34m\u001b[0m\u001b[0m\n\u001b[0;32m----> 3\u001b[0;31m \u001b[0mdf\u001b[0m\u001b[0;34m=\u001b[0m\u001b[0mpd\u001b[0m\u001b[0;34m.\u001b[0m\u001b[0mread_csv\u001b[0m\u001b[0;34m(\u001b[0m\u001b[0;34m\"/content/sample_data/california_housing_train.csv\"\u001b[0m\u001b[0;34m)\u001b[0m\u001b[0;34m\u001b[0m\u001b[0;34m\u001b[0m\u001b[0m\n\u001b[0m\u001b[1;32m      4\u001b[0m \u001b[0;34m\u001b[0m\u001b[0m\n\u001b[1;32m      5\u001b[0m \u001b[0mprint\u001b[0m\u001b[0;34m(\u001b[0m\u001b[0mdf\u001b[0m\u001b[0;34m)\u001b[0m\u001b[0;34m\u001b[0m\u001b[0;34m\u001b[0m\u001b[0m\n",
            "\u001b[0;31mTypeError\u001b[0m: 'str' object is not callable"
          ]
        }
      ]
    },
    {
      "cell_type": "code",
      "source": [
        ""
      ],
      "metadata": {
        "id": "WVFQaVy9XYpc"
      },
      "execution_count": null,
      "outputs": []
    },
    {
      "cell_type": "code",
      "source": [
        "# SparkSession entrypoint to spark - creates Session for the user\n",
        "from pyspark.sql import SparkSession\n",
        "spark = SparkSession.builder.getOrCreate()"
      ],
      "metadata": {
        "id": "J8QJaejZV_Y7"
      },
      "execution_count": null,
      "outputs": []
    },
    {
      "cell_type": "code",
      "source": [
        ""
      ],
      "metadata": {
        "id": "cesGPT9cfh8r"
      },
      "execution_count": null,
      "outputs": []
    },
    {
      "cell_type": "code",
      "source": [
        "# sample RDD creation - RDD is resilient distributed dataset its basic building block in Saprk\n",
        "\n",
        "spark = SparkSession.builder.appName(\"Pyspark Create RDD example\").config(\"spark.some.config.option\", \"some-value\").getOrCreate()\n",
        "\n",
        "Student = spark.createDataFrame([\n",
        "\n",
        "('10001', 'Anuj', '70%', 'B.Tech (cs)'),\n",
        "\n",
        "\n",
        "\n",
        "('10007', 'Vanshika', '70%', 'B.Tech(EC)')],\n",
        "\n",
        "['Roll No', 'Name', 'Percentage', 'Department']\n",
        ")\n",
        "Student.show()\n",
        "\n"
      ],
      "metadata": {
        "colab": {
          "base_uri": "https://localhost:8080/"
        },
        "id": "RXRrAEoKXZcL",
        "outputId": "de8bb43d-4ed2-4b60-c93a-70d8151aed6a"
      },
      "execution_count": null,
      "outputs": [
        {
          "output_type": "stream",
          "name": "stdout",
          "text": [
            "+-------+--------+----------+-----------+\n",
            "|Roll No|    Name|Percentage| Department|\n",
            "+-------+--------+----------+-----------+\n",
            "|  10001|    Anuj|       70%|B.Tech (cs)|\n",
            "|  10007|Vanshika|       70%| B.Tech(EC)|\n",
            "+-------+--------+----------+-----------+\n",
            "\n"
          ]
        }
      ]
    },
    {
      "cell_type": "code",
      "source": [
        "from pyspark.sql import SparkSession\n",
        "\n",
        "spark = SparkSession.builder.appName(\"Pyspark Create RDD example\").config(\"spark.some.config.option\", \"some-value\").getOrCreate()\n",
        "df = spark.sparkContext.parallelize ([\n",
        "\n",
        "(12, 20, 35, 'a b c'),\n",
        "\n",
        "(41, 34, 64, 'd e f'),\n",
        "\n",
        "(78, 85, 68, 'g e f')]).toDF(['col1', 'col2', 'co13', 'co14'])\n",
        "\n",
        "df.show()"
      ],
      "metadata": {
        "colab": {
          "base_uri": "https://localhost:8080/"
        },
        "id": "Xn7RfiMofi8i",
        "outputId": "0dec3509-adfd-4975-e594-f5dca700bc48"
      },
      "execution_count": null,
      "outputs": [
        {
          "output_type": "stream",
          "name": "stdout",
          "text": [
            "+----+----+----+-----+\n",
            "|col1|col2|co13| co14|\n",
            "+----+----+----+-----+\n",
            "|  12|  20|  35|a b c|\n",
            "|  41|  34|  64|d e f|\n",
            "|  78|  85|  68|g e f|\n",
            "+----+----+----+-----+\n",
            "\n"
          ]
        }
      ]
    },
    {
      "cell_type": "code",
      "source": [
        "#Loading sample data from dataframe\n",
        "\n",
        "import pandas as pd\n",
        "\n",
        "df = pd.DataFrame.from_dict(\n",
        "\n",
        "{ 'Name': ['Nik', 'Nik', 'Jane', 'Jane'],\n",
        "\n",
        "  'Year': [2020, 2021, 2822, 2019],\n",
        "\n",
        "  'Sales' : [1000, 2300, 2500, 3000],\n",
        "\n",
        "})\n",
        "print(df)"
      ],
      "metadata": {
        "colab": {
          "base_uri": "https://localhost:8080/"
        },
        "id": "ULggxMm_nNB0",
        "outputId": "2af4f26d-d650-4e0a-8348-1197dc828664"
      },
      "execution_count": null,
      "outputs": [
        {
          "output_type": "stream",
          "name": "stdout",
          "text": [
            "   Name  Year  Sales\n",
            "0   Nik  2020   1000\n",
            "1   Nik  2021   2300\n",
            "2  Jane  2822   2500\n",
            "3  Jane  2019   3000\n"
          ]
        }
      ]
    },
    {
      "cell_type": "code",
      "source": [
        "pip install spark"
      ],
      "metadata": {
        "colab": {
          "base_uri": "https://localhost:8080/"
        },
        "id": "e2vsqU20q_uJ",
        "outputId": "877a0a1e-7c46-4ce0-c282-8ba91455b930"
      },
      "execution_count": null,
      "outputs": [
        {
          "output_type": "stream",
          "name": "stdout",
          "text": [
            "Looking in indexes: https://pypi.org/simple, https://us-python.pkg.dev/colab-wheels/public/simple/\n",
            "Collecting spark\n",
            "  Downloading spark-0.2.1.tar.gz (41 kB)\n",
            "\u001b[K     |████████████████████████████████| 41 kB 59 kB/s \n",
            "\u001b[?25hBuilding wheels for collected packages: spark\n",
            "  Building wheel for spark (setup.py) ... \u001b[?25l\u001b[?25hdone\n",
            "  Created wheel for spark: filename=spark-0.2.1-py3-none-any.whl size=58762 sha256=9716d9aa41180b322552c315ab5498df7eac9de06afcb71eedde70d28460f349\n",
            "  Stored in directory: /root/.cache/pip/wheels/4e/0e/f1/164619f9920fb447d294afaae11a7715bd442ded7225953d72\n",
            "Successfully built spark\n",
            "Installing collected packages: spark\n",
            "Successfully installed spark-0.2.1\n"
          ]
        }
      ]
    },
    {
      "cell_type": "code",
      "source": [
        "pip install pyspark"
      ],
      "metadata": {
        "colab": {
          "base_uri": "https://localhost:8080/"
        },
        "id": "q_4zRtXPrlL2",
        "outputId": "b28502a3-ad1b-48a9-f07e-f6ef98063c8d"
      },
      "execution_count": null,
      "outputs": [
        {
          "output_type": "stream",
          "name": "stdout",
          "text": [
            "Looking in indexes: https://pypi.org/simple, https://us-python.pkg.dev/colab-wheels/public/simple/\n",
            "Collecting pyspark\n",
            "  Downloading pyspark-3.3.0.tar.gz (281.3 MB)\n",
            "\u001b[K     |████████████████████████████████| 281.3 MB 32 kB/s \n",
            "\u001b[?25hCollecting py4j==0.10.9.5\n",
            "  Downloading py4j-0.10.9.5-py2.py3-none-any.whl (199 kB)\n",
            "\u001b[K     |████████████████████████████████| 199 kB 48.4 MB/s \n",
            "\u001b[?25hBuilding wheels for collected packages: pyspark\n",
            "  Building wheel for pyspark (setup.py) ... \u001b[?25l\u001b[?25hdone\n",
            "  Created wheel for pyspark: filename=pyspark-3.3.0-py2.py3-none-any.whl size=281764026 sha256=1028f6194e161c62ccd20a5af5de28b23f344a610f1decc88c4033f51fef58ee\n",
            "  Stored in directory: /root/.cache/pip/wheels/7a/8e/1b/f73a52650d2e5f337708d9f6a1750d451a7349a867f928b885\n",
            "Successfully built pyspark\n",
            "Installing collected packages: py4j, pyspark\n",
            "Successfully installed py4j-0.10.9.5 pyspark-3.3.0\n"
          ]
        }
      ]
    },
    {
      "cell_type": "code",
      "source": [
        "#group the data\n",
        "df = spark.createDataFrame([\n",
        "                      \n",
        "['red', 'apple',1,10],['yellow','banana',5,15],['red','carrot',89,7],\n",
        "['blue', 'berry',1,10],['yellow','mango',5,15],['red','cherry',89,7],\n",
        "['black', 'grape',1,10],['orange','pappya',5,15],['green','carrot',89,7]], schema=['fruit','color','v1','v2'] ) \n",
        "df.show()"
      ],
      "metadata": {
        "colab": {
          "base_uri": "https://localhost:8080/",
          "height": 244
        },
        "id": "NW00TKb2IIiQ",
        "outputId": "6e89f512-f313-4b77-8bae-0c5781a7fa6a"
      },
      "execution_count": null,
      "outputs": [
        {
          "output_type": "error",
          "ename": "NameError",
          "evalue": "ignored",
          "traceback": [
            "\u001b[0;31m---------------------------------------------------------------------------\u001b[0m",
            "\u001b[0;31mNameError\u001b[0m                                 Traceback (most recent call last)",
            "\u001b[0;32m<ipython-input-10-885b7b9bfaef>\u001b[0m in \u001b[0;36m<module>\u001b[0;34m()\u001b[0m\n\u001b[1;32m      1\u001b[0m \u001b[0;31m#group the data\u001b[0m\u001b[0;34m\u001b[0m\u001b[0;34m\u001b[0m\u001b[0;34m\u001b[0m\u001b[0m\n\u001b[0;32m----> 2\u001b[0;31m df = spark.createDataFrame([\n\u001b[0m\u001b[1;32m      3\u001b[0m \u001b[0;34m\u001b[0m\u001b[0m\n\u001b[1;32m      4\u001b[0m \u001b[0;34m[\u001b[0m\u001b[0;34m'red'\u001b[0m\u001b[0;34m,\u001b[0m \u001b[0;34m'apple'\u001b[0m\u001b[0;34m,\u001b[0m\u001b[0;36m1\u001b[0m\u001b[0;34m,\u001b[0m\u001b[0;36m10\u001b[0m\u001b[0;34m]\u001b[0m\u001b[0;34m,\u001b[0m\u001b[0;34m[\u001b[0m\u001b[0;34m'yellow'\u001b[0m\u001b[0;34m,\u001b[0m\u001b[0;34m'banana'\u001b[0m\u001b[0;34m,\u001b[0m\u001b[0;36m5\u001b[0m\u001b[0;34m,\u001b[0m\u001b[0;36m15\u001b[0m\u001b[0;34m]\u001b[0m\u001b[0;34m,\u001b[0m\u001b[0;34m[\u001b[0m\u001b[0;34m'red'\u001b[0m\u001b[0;34m,\u001b[0m\u001b[0;34m'carrot'\u001b[0m\u001b[0;34m,\u001b[0m\u001b[0;36m89\u001b[0m\u001b[0;34m,\u001b[0m\u001b[0;36m7\u001b[0m\u001b[0;34m]\u001b[0m\u001b[0;34m,\u001b[0m\u001b[0;34m\u001b[0m\u001b[0;34m\u001b[0m\u001b[0m\n\u001b[1;32m      5\u001b[0m \u001b[0;34m[\u001b[0m\u001b[0;34m'blue'\u001b[0m\u001b[0;34m,\u001b[0m \u001b[0;34m'berry'\u001b[0m\u001b[0;34m,\u001b[0m\u001b[0;36m1\u001b[0m\u001b[0;34m,\u001b[0m\u001b[0;36m10\u001b[0m\u001b[0;34m]\u001b[0m\u001b[0;34m,\u001b[0m\u001b[0;34m[\u001b[0m\u001b[0;34m'yellow'\u001b[0m\u001b[0;34m,\u001b[0m\u001b[0;34m'mango'\u001b[0m\u001b[0;34m,\u001b[0m\u001b[0;36m5\u001b[0m\u001b[0;34m,\u001b[0m\u001b[0;36m15\u001b[0m\u001b[0;34m]\u001b[0m\u001b[0;34m,\u001b[0m\u001b[0;34m[\u001b[0m\u001b[0;34m'red'\u001b[0m\u001b[0;34m,\u001b[0m\u001b[0;34m'cherry'\u001b[0m\u001b[0;34m,\u001b[0m\u001b[0;36m89\u001b[0m\u001b[0;34m,\u001b[0m\u001b[0;36m7\u001b[0m\u001b[0;34m]\u001b[0m\u001b[0;34m,\u001b[0m\u001b[0;34m\u001b[0m\u001b[0;34m\u001b[0m\u001b[0m\n",
            "\u001b[0;31mNameError\u001b[0m: name 'spark' is not defined"
          ]
        }
      ]
    },
    {
      "cell_type": "code",
      "source": [
        ""
      ],
      "metadata": {
        "id": "oKRrzYvRs6yx"
      },
      "execution_count": null,
      "outputs": []
    },
    {
      "cell_type": "code",
      "source": [
        "#group the data\n",
        "df = spark.createDataFrame([\n",
        "                      \n",
        "['red', 'apple',1,10],['yellow','banana',5,15],['red','carrot',89,7],\n",
        "['blue', 'berry',1,10],['yellow','mango',5,15],['red','cherry',89,7],\n",
        "['black', 'grape',1,10],['orange','pappya',5,15],['green','carrot',89,7]], schema=['fruit','color','v1','v2'] ) \n",
        "df.show()"
      ],
      "metadata": {
        "colab": {
          "base_uri": "https://localhost:8080/",
          "height": 244
        },
        "id": "yvvrGPXisHRe",
        "outputId": "91eec90f-5928-4e14-d2e4-cfe8eed57e30"
      },
      "execution_count": null,
      "outputs": [
        {
          "output_type": "error",
          "ename": "NameError",
          "evalue": "ignored",
          "traceback": [
            "\u001b[0;31m---------------------------------------------------------------------------\u001b[0m",
            "\u001b[0;31mNameError\u001b[0m                                 Traceback (most recent call last)",
            "\u001b[0;32m<ipython-input-11-885b7b9bfaef>\u001b[0m in \u001b[0;36m<module>\u001b[0;34m()\u001b[0m\n\u001b[1;32m      1\u001b[0m \u001b[0;31m#group the data\u001b[0m\u001b[0;34m\u001b[0m\u001b[0;34m\u001b[0m\u001b[0;34m\u001b[0m\u001b[0m\n\u001b[0;32m----> 2\u001b[0;31m df = spark.createDataFrame([\n\u001b[0m\u001b[1;32m      3\u001b[0m \u001b[0;34m\u001b[0m\u001b[0m\n\u001b[1;32m      4\u001b[0m \u001b[0;34m[\u001b[0m\u001b[0;34m'red'\u001b[0m\u001b[0;34m,\u001b[0m \u001b[0;34m'apple'\u001b[0m\u001b[0;34m,\u001b[0m\u001b[0;36m1\u001b[0m\u001b[0;34m,\u001b[0m\u001b[0;36m10\u001b[0m\u001b[0;34m]\u001b[0m\u001b[0;34m,\u001b[0m\u001b[0;34m[\u001b[0m\u001b[0;34m'yellow'\u001b[0m\u001b[0;34m,\u001b[0m\u001b[0;34m'banana'\u001b[0m\u001b[0;34m,\u001b[0m\u001b[0;36m5\u001b[0m\u001b[0;34m,\u001b[0m\u001b[0;36m15\u001b[0m\u001b[0;34m]\u001b[0m\u001b[0;34m,\u001b[0m\u001b[0;34m[\u001b[0m\u001b[0;34m'red'\u001b[0m\u001b[0;34m,\u001b[0m\u001b[0;34m'carrot'\u001b[0m\u001b[0;34m,\u001b[0m\u001b[0;36m89\u001b[0m\u001b[0;34m,\u001b[0m\u001b[0;36m7\u001b[0m\u001b[0;34m]\u001b[0m\u001b[0;34m,\u001b[0m\u001b[0;34m\u001b[0m\u001b[0;34m\u001b[0m\u001b[0m\n\u001b[1;32m      5\u001b[0m \u001b[0;34m[\u001b[0m\u001b[0;34m'blue'\u001b[0m\u001b[0;34m,\u001b[0m \u001b[0;34m'berry'\u001b[0m\u001b[0;34m,\u001b[0m\u001b[0;36m1\u001b[0m\u001b[0;34m,\u001b[0m\u001b[0;36m10\u001b[0m\u001b[0;34m]\u001b[0m\u001b[0;34m,\u001b[0m\u001b[0;34m[\u001b[0m\u001b[0;34m'yellow'\u001b[0m\u001b[0;34m,\u001b[0m\u001b[0;34m'mango'\u001b[0m\u001b[0;34m,\u001b[0m\u001b[0;36m5\u001b[0m\u001b[0;34m,\u001b[0m\u001b[0;36m15\u001b[0m\u001b[0;34m]\u001b[0m\u001b[0;34m,\u001b[0m\u001b[0;34m[\u001b[0m\u001b[0;34m'red'\u001b[0m\u001b[0;34m,\u001b[0m\u001b[0;34m'cherry'\u001b[0m\u001b[0;34m,\u001b[0m\u001b[0;36m89\u001b[0m\u001b[0;34m,\u001b[0m\u001b[0;36m7\u001b[0m\u001b[0;34m]\u001b[0m\u001b[0;34m,\u001b[0m\u001b[0;34m\u001b[0m\u001b[0;34m\u001b[0m\u001b[0m\n",
            "\u001b[0;31mNameError\u001b[0m: name 'spark' is not defined"
          ]
        }
      ]
    },
    {
      "cell_type": "code",
      "source": [
        "pip install Pyspark"
      ],
      "metadata": {
        "colab": {
          "base_uri": "https://localhost:8080/"
        },
        "id": "muY9gHdHs8bW",
        "outputId": "58c1e568-81f3-4050-e647-5ce5e63446bd"
      },
      "execution_count": null,
      "outputs": [
        {
          "output_type": "stream",
          "name": "stdout",
          "text": [
            "Looking in indexes: https://pypi.org/simple, https://us-python.pkg.dev/colab-wheels/public/simple/\n",
            "Collecting Pyspark\n",
            "  Downloading pyspark-3.3.0.tar.gz (281.3 MB)\n",
            "\u001b[K     |████████████████████████████████| 281.3 MB 45 kB/s \n",
            "\u001b[?25hCollecting py4j==0.10.9.5\n",
            "  Downloading py4j-0.10.9.5-py2.py3-none-any.whl (199 kB)\n",
            "\u001b[K     |████████████████████████████████| 199 kB 63.8 MB/s \n",
            "\u001b[?25hBuilding wheels for collected packages: Pyspark\n",
            "  Building wheel for Pyspark (setup.py) ... \u001b[?25l\u001b[?25hdone\n",
            "  Created wheel for Pyspark: filename=pyspark-3.3.0-py2.py3-none-any.whl size=281764026 sha256=5942962646d0990b374a9e72c38dac6fdca0f033039e040f7c8a1d473ab5fad5\n",
            "  Stored in directory: /root/.cache/pip/wheels/7a/8e/1b/f73a52650d2e5f337708d9f6a1750d451a7349a867f928b885\n",
            "Successfully built Pyspark\n",
            "Installing collected packages: py4j, Pyspark\n",
            "Successfully installed Pyspark-3.3.0 py4j-0.10.9.5\n"
          ]
        }
      ]
    },
    {
      "cell_type": "code",
      "source": [
        "from pyspark.sql import SparkSession\n",
        "\n",
        "spark = SparkSession.builder.getOrCreate()"
      ],
      "metadata": {
        "id": "l3Evz-FEtDNB"
      },
      "execution_count": null,
      "outputs": []
    },
    {
      "cell_type": "code",
      "source": [
        ""
      ],
      "metadata": {
        "id": "mqfOQw9tTIzK"
      },
      "execution_count": null,
      "outputs": []
    },
    {
      "cell_type": "code",
      "source": [
        "#group the data\n",
        "df = spark.createDataFrame([\n",
        "                      \n",
        "['red', 'apple',1,10],['yellow','banana',5,15],['red','carrot',89,7],\n",
        "['blue', 'berry',1,10],['yellow','mango',5,15],['red','cherry',89,7],\n",
        "['black', 'grape',1,10],['orange','pappya',5,15],['green','carrot',89,7]], schema=['color','fruit','v1','v2'] ) \n",
        "df.show()"
      ],
      "metadata": {
        "colab": {
          "base_uri": "https://localhost:8080/"
        },
        "id": "lv2RfCaAtSFt",
        "outputId": "af5bd294-e269-4ddf-9007-9103dba4a338"
      },
      "execution_count": null,
      "outputs": [
        {
          "output_type": "stream",
          "name": "stdout",
          "text": [
            "+------+------+---+---+\n",
            "| color| fruit| v1| v2|\n",
            "+------+------+---+---+\n",
            "|   red| apple|  1| 10|\n",
            "|yellow|banana|  5| 15|\n",
            "|   red|carrot| 89|  7|\n",
            "|  blue| berry|  1| 10|\n",
            "|yellow| mango|  5| 15|\n",
            "|   red|cherry| 89|  7|\n",
            "| black| grape|  1| 10|\n",
            "|orange|pappya|  5| 15|\n",
            "| green|carrot| 89|  7|\n",
            "+------+------+---+---+\n",
            "\n"
          ]
        }
      ]
    },
    {
      "cell_type": "code",
      "source": [
        "df.groupby('color').avg().show()"
      ],
      "metadata": {
        "colab": {
          "base_uri": "https://localhost:8080/"
        },
        "id": "pszWtXgmuTIG",
        "outputId": "7d911d1c-a3d5-40be-ef91-399bc59718de"
      },
      "execution_count": null,
      "outputs": [
        {
          "output_type": "stream",
          "name": "stdout",
          "text": [
            "+------+------------------+-------+\n",
            "| color|           avg(v1)|avg(v2)|\n",
            "+------+------------------+-------+\n",
            "|yellow|               5.0|   15.0|\n",
            "|   red|59.666666666666664|    8.0|\n",
            "|  blue|               1.0|   10.0|\n",
            "|orange|               5.0|   15.0|\n",
            "| green|              89.0|    7.0|\n",
            "| black|               1.0|   10.0|\n",
            "+------+------------------+-------+\n",
            "\n"
          ]
        }
      ]
    },
    {
      "cell_type": "code",
      "source": [
        "df.groupBy('color').count().show()"
      ],
      "metadata": {
        "colab": {
          "base_uri": "https://localhost:8080/"
        },
        "id": "eFT3Kyu8ur6H",
        "outputId": "bcc17510-3fe8-4b17-caa5-31732c2bdb59"
      },
      "execution_count": null,
      "outputs": [
        {
          "output_type": "stream",
          "name": "stdout",
          "text": [
            "+------+-----+\n",
            "| color|count|\n",
            "+------+-----+\n",
            "|yellow|    2|\n",
            "|   red|    3|\n",
            "|  blue|    1|\n",
            "|orange|    1|\n",
            "| green|    1|\n",
            "| black|    1|\n",
            "+------+-----+\n",
            "\n"
          ]
        }
      ]
    },
    {
      "cell_type": "code",
      "source": [
        "df.groupBy('fruit').count().show()"
      ],
      "metadata": {
        "colab": {
          "base_uri": "https://localhost:8080/"
        },
        "id": "hWqDVTS_u8t3",
        "outputId": "7b589d69-2432-4e92-a2d5-4d27906250ce"
      },
      "execution_count": null,
      "outputs": [
        {
          "output_type": "stream",
          "name": "stdout",
          "text": [
            "+------+-----+\n",
            "| fruit|count|\n",
            "+------+-----+\n",
            "| apple|    1|\n",
            "| berry|    1|\n",
            "|banana|    1|\n",
            "|carrot|    2|\n",
            "| grape|    1|\n",
            "| mango|    1|\n",
            "|cherry|    1|\n",
            "|pappya|    1|\n",
            "+------+-----+\n",
            "\n"
          ]
        }
      ]
    },
    {
      "cell_type": "code",
      "source": [
        "#Counting RDD values\n",
        "\n",
        "from pyspark import SparkContext\n",
        "\n",
        "sc = SparkContext.getOrCreate()\n",
        "\n",
        "words=sc.parallelize ([\"Python\", \"Java\", \"Hadoop\", \"C\", \"C++\", \"Spark Vs Hadoop\", \"Pyspark Vs Spark\"])\n",
        "\n",
        "counts = words.count()\n",
        "\n",
        "print(\"Number of elements present in RDD ->%i\" % (counts))\n",
        "\n"
      ],
      "metadata": {
        "colab": {
          "base_uri": "https://localhost:8080/"
        },
        "id": "FxkIQx54vKDu",
        "outputId": "452f7ac5-d4cd-4ae1-a62f-1d59516c5720"
      },
      "execution_count": null,
      "outputs": [
        {
          "output_type": "stream",
          "name": "stdout",
          "text": [
            "Number of elements present in RDD ->7\n"
          ]
        }
      ]
    },
    {
      "cell_type": "code",
      "source": [
        "#Counting RDD values\n",
        "\n",
        "from pyspark import SparkContext\n",
        "\n",
        "sc = SparkContext.getOrCreate()\n",
        "\n",
        "words=sc.parallelize ([\"Python\", \"Java\", \"Hadoop\", \"C\", \"C++\", \"Spark Vs Hadoop\", \"Pyspark Vs Spark\"])\n",
        "\n",
        "def f(x):\n",
        "\n",
        "          print(x)\n",
        "\n",
        "          fore=words.foreach(f)"
      ],
      "metadata": {
        "id": "tA91Do4A0c9Q"
      },
      "execution_count": null,
      "outputs": []
    },
    {
      "cell_type": "code",
      "source": [
        "#DataFrame ->print Employee details:\n",
        "\n",
        "import pyspark\n",
        "from pyspark.sql import SparkSession\n",
        "from pyspark.sql import functions as F\n",
        "\n",
        "# Creating spark session\n",
        "\n",
        "spark = SparkSession.builder.appName('sparkdf').getOrCreate()\n",
        "\n",
        "#List of employees\n",
        "\n",
        "data = [\n",
        "\n",
        "(1201, (\"Sandipan\", \"paul\"), 10000, 25),\n",
        "\n",
        "(1202, (\"Arman\", \"mishra\"), 10000, 24),\n",
        "(1203, (\"Prashant\", \"attri\"), 15000, 27),\n",
        "(1204, (\"Shashank\", \"Venna\"), 10000, 22),\n",
        "(1205, (\"Shruti\", \"p\"), 78000, 28),\n",
        "(1206, (\"Vanshika\", \"Jain\"), 10000, 24), \n",
        "(1207, (\"Saikat\", \"Dutta\"), 1110000, 24),\n",
        "(1208, (\"Pritam\", \"D\"), 10000, 29), \n",
        "(1209, (\"Muskan\", \"Rohada\"), 107000, 22),\n",
        "]\n",
        "#Specify column names:\n",
        "\n",
        "columns=['Emp ID', 'Emp Name', 'Salary', 'Age']\n",
        "\n",
        "#creating dataframe from the list o fdata\n",
        "\n",
        "df = spark.createDataFrame(data,columns)\n",
        "\n",
        "print(\"Original data\")\n",
        "\n",
        "df.show()"
      ],
      "metadata": {
        "colab": {
          "base_uri": "https://localhost:8080/"
        },
        "id": "6tTIY9sM0x6_",
        "outputId": "9bcfdbed-5ee5-4ff0-a95e-8437323db1cd"
      },
      "execution_count": null,
      "outputs": [
        {
          "output_type": "stream",
          "name": "stdout",
          "text": [
            "Original data\n",
            "+------+-----------------+-------+---+\n",
            "|Emp ID|         Emp Name| Salary|Age|\n",
            "+------+-----------------+-------+---+\n",
            "|  1201| {Sandipan, paul}|  10000| 25|\n",
            "|  1202|  {Arman, mishra}|  10000| 24|\n",
            "|  1203|{Prashant, attri}|  15000| 27|\n",
            "|  1204|{Shashank, Venna}|  10000| 22|\n",
            "|  1205|      {Shruti, p}|  78000| 28|\n",
            "|  1206| {Vanshika, Jain}|  10000| 24|\n",
            "|  1207|  {Saikat, Dutta}|1110000| 24|\n",
            "|  1208|      {Pritam, D}|  10000| 29|\n",
            "|  1209| {Muskan, Rohada}| 107000| 22|\n",
            "+------+-----------------+-------+---+\n",
            "\n"
          ]
        }
      ]
    },
    {
      "cell_type": "code",
      "source": [
        "# filter dataframe based on condition :\n",
        "\n",
        "df2 = df.where(df.Age<= 25) \n",
        "print(\"employees age equal or less than 25 are\")\n",
        "df2.show()"
      ],
      "metadata": {
        "colab": {
          "base_uri": "https://localhost:8080/"
        },
        "id": "2sIT6uMX7ae0",
        "outputId": "7f677568-a726-43ab-f529-d598881bd141"
      },
      "execution_count": null,
      "outputs": [
        {
          "output_type": "stream",
          "name": "stdout",
          "text": [
            "employees age equal or less than 25 are\n",
            "+------+-----------------+-------+---+\n",
            "|Emp ID|         Emp Name| Salary|Age|\n",
            "+------+-----------------+-------+---+\n",
            "|  1201| {Sandipan, paul}|  10000| 25|\n",
            "|  1202|  {Arman, mishra}|  10000| 24|\n",
            "|  1204|{Shashank, Venna}|  10000| 22|\n",
            "|  1206| {Vanshika, Jain}|  10000| 24|\n",
            "|  1207|  {Saikat, Dutta}|1110000| 24|\n",
            "|  1209| {Muskan, Rohada}| 107000| 22|\n",
            "+------+-----------------+-------+---+\n",
            "\n"
          ]
        }
      ]
    },
    {
      "cell_type": "code",
      "source": [
        "# filter dataframe based on condition :\n",
        "\n",
        "df2 = df.where((df.Age<= 25) & (df.Salary >= 25))\n",
        "print (\"Employee whose Age is greater than 25 and Salary also greater than 25'\")\n",
        "df2.show()"
      ],
      "metadata": {
        "colab": {
          "base_uri": "https://localhost:8080/"
        },
        "id": "rtR1bCyq7HyH",
        "outputId": "14bc02ac-8358-4e40-8820-ee1e25e12b44"
      },
      "execution_count": null,
      "outputs": [
        {
          "output_type": "stream",
          "name": "stdout",
          "text": [
            "Employee whose Age is greater than 25 and Salary also greater than 25'\n",
            "+------+-----------------+-------+---+\n",
            "|Emp ID|         Emp Name| Salary|Age|\n",
            "+------+-----------------+-------+---+\n",
            "|  1201| {Sandipan, paul}|  10000| 25|\n",
            "|  1202|  {Arman, mishra}|  10000| 24|\n",
            "|  1204|{Shashank, Venna}|  10000| 22|\n",
            "|  1206| {Vanshika, Jain}|  10000| 24|\n",
            "|  1207|  {Saikat, Dutta}|1110000| 24|\n",
            "|  1209| {Muskan, Rohada}| 107000| 22|\n",
            "+------+-----------------+-------+---+\n",
            "\n"
          ]
        }
      ]
    },
    {
      "cell_type": "code",
      "source": [
        "# filter dataframe based on condition :\n",
        "\n",
        "df2 = df.where(df.Age== 25) \n",
        "print(\"employees age equal  25 are\")\n",
        "df2.show()"
      ],
      "metadata": {
        "colab": {
          "base_uri": "https://localhost:8080/"
        },
        "id": "JSm1ZA4WSpQA",
        "outputId": "dce24c77-8530-40ee-eb2e-b0d652353398"
      },
      "execution_count": null,
      "outputs": [
        {
          "output_type": "stream",
          "name": "stdout",
          "text": [
            "employees age equal  25 are\n",
            "+------+----------------+------+---+\n",
            "|Emp ID|        Emp Name|Salary|Age|\n",
            "+------+----------------+------+---+\n",
            "|  1201|{Sandipan, paul}| 10000| 25|\n",
            "+------+----------------+------+---+\n",
            "\n"
          ]
        }
      ]
    },
    {
      "cell_type": "code",
      "source": [
        "#Load file data & read\n",
        "\n",
        "import pyspark\n",
        "from pyspark.sql import SparkSession\n",
        "\n",
        "spark = SparkSession \\\n",
        "        .builder \\\n",
        "        .appName(\"Python Spark create RDD & Load CSV file example\") \\\n",
        "        .config(\"spark.some.config.option\", \"some-value\") \\\n",
        "        .getOrCreate()\n",
        "\n",
        "df = spark.read.format('csv').\\\n",
        "           options(header=\"true\", \\\n",
        "                inferschema=\"true\"). \\\n",
        "           load(\"/content/Companies.csv\", header=True)\n",
        "\n",
        "df.show(5)\n",
        "\n",
        "df.printSchema()"
      ],
      "metadata": {
        "colab": {
          "base_uri": "https://localhost:8080/"
        },
        "id": "MeHGlV3dTK2w",
        "outputId": "e18afff8-c7f4-4604-afdb-a2713e9d8c7e"
      },
      "execution_count": null,
      "outputs": [
        {
          "output_type": "stream",
          "name": "stdout",
          "text": [
            "+---------+--------------+---------------+----------+---------+\n",
            "|R&D Spend|Administration|Marketing Spend|     State|   Profit|\n",
            "+---------+--------------+---------------+----------+---------+\n",
            "| 165349.2|      136897.8|       471784.1|  New York|192261.83|\n",
            "| 162597.7|     151377.59|      443898.53|California|191792.06|\n",
            "|153441.51|     101145.55|      407934.54|   Florida|191050.39|\n",
            "|144372.41|     118671.85|      383199.62|  New York|182901.99|\n",
            "|142107.34|      91391.77|      366168.42|   Florida|166187.94|\n",
            "+---------+--------------+---------------+----------+---------+\n",
            "only showing top 5 rows\n",
            "\n",
            "root\n",
            " |-- R&D Spend: double (nullable = true)\n",
            " |-- Administration: double (nullable = true)\n",
            " |-- Marketing Spend: double (nullable = true)\n",
            " |-- State: string (nullable = true)\n",
            " |-- Profit: double (nullable = true)\n",
            "\n"
          ]
        }
      ]
    },
    {
      "cell_type": "markdown",
      "source": [
        "# New Section"
      ],
      "metadata": {
        "id": "yRWvrM7HV9eZ"
      }
    },
    {
      "cell_type": "code",
      "source": [
        "#pyspark one dimensional array\n",
        "import pandas as pd\n",
        "ds = pd.Series([12,8,9,9,6,2,32,65])\n",
        "print(ds)"
      ],
      "metadata": {
        "colab": {
          "base_uri": "https://localhost:8080/"
        },
        "id": "Oabj81W8gG_X",
        "outputId": "9b985fb5-d032-41b7-8f08-dfa6b6806c1a"
      },
      "execution_count": null,
      "outputs": [
        {
          "output_type": "stream",
          "name": "stdout",
          "text": [
            "0    12\n",
            "1     8\n",
            "2     9\n",
            "3     9\n",
            "4     6\n",
            "5     2\n",
            "6    32\n",
            "7    65\n",
            "dtype: int64\n"
          ]
        }
      ]
    },
    {
      "cell_type": "markdown",
      "source": [
        "# New Section"
      ],
      "metadata": {
        "id": "G_22kWTIdQXQ"
      }
    },
    {
      "cell_type": "code",
      "source": [
        "#pyspark - series comparison\n",
        "\n",
        "import pandas as pd\n",
        "\n",
        "ds1 = pd.Series([2,4,6,8,10])\n",
        "\n",
        "ds2 = pd. Series([1,2,3,4,5])\n",
        "\n",
        "print(\"Series1\")\n",
        "\n",
        "print(ds)\n",
        "\n",
        "print(\"Series2\")\n",
        "\n",
        "print(ds2)\n",
        "\n",
        "print(\"Compare the elements of the said Series\")\n",
        "\n",
        "print(\"Equals\")\n",
        "\n",
        "print(ds1==ds2)\n",
        "\n",
        "print(\"Greater Than\")\n",
        "\n",
        "print(ds1>ds2)\n",
        "\n",
        "print(\"Less than\")\n",
        "\n",
        "print(ds1<ds2)"
      ],
      "metadata": {
        "colab": {
          "base_uri": "https://localhost:8080/"
        },
        "id": "feKUkKISklkH",
        "outputId": "f6f07c4e-ca15-48ea-da2d-6973f67bfd2c"
      },
      "execution_count": null,
      "outputs": [
        {
          "output_type": "stream",
          "name": "stdout",
          "text": [
            "Series1\n",
            "0    12\n",
            "1     8\n",
            "2     9\n",
            "3     9\n",
            "4     6\n",
            "5     2\n",
            "6    32\n",
            "7    65\n",
            "dtype: int64\n",
            "Series2\n",
            "0    1\n",
            "1    2\n",
            "2    3\n",
            "3    4\n",
            "4    5\n",
            "dtype: int64\n",
            "Compare the elements of the said Series\n",
            "Equals\n",
            "0    False\n",
            "1    False\n",
            "2    False\n",
            "3    False\n",
            "4    False\n",
            "dtype: bool\n",
            "Greater Than\n",
            "0    True\n",
            "1    True\n",
            "2    True\n",
            "3    True\n",
            "4    True\n",
            "dtype: bool\n",
            "Less than\n",
            "0    False\n",
            "1    False\n",
            "2    False\n",
            "3    False\n",
            "4    False\n",
            "dtype: bool\n"
          ]
        }
      ]
    },
    {
      "cell_type": "code",
      "source": [
        "pip install pyspark\n"
      ],
      "metadata": {
        "id": "lIm4uNU4krvJ",
        "colab": {
          "base_uri": "https://localhost:8080/"
        },
        "outputId": "1895749d-4b41-4dac-9adc-960fa8eb58f6"
      },
      "execution_count": null,
      "outputs": [
        {
          "output_type": "stream",
          "name": "stdout",
          "text": [
            "Looking in indexes: https://pypi.org/simple, https://us-python.pkg.dev/colab-wheels/public/simple/\n",
            "Collecting pyspark\n",
            "  Downloading pyspark-3.3.0.tar.gz (281.3 MB)\n",
            "\u001b[K     |████████████████████████████████| 281.3 MB 37 kB/s \n",
            "\u001b[?25hCollecting py4j==0.10.9.5\n",
            "  Downloading py4j-0.10.9.5-py2.py3-none-any.whl (199 kB)\n",
            "\u001b[K     |████████████████████████████████| 199 kB 59.9 MB/s \n",
            "\u001b[?25hBuilding wheels for collected packages: pyspark\n",
            "  Building wheel for pyspark (setup.py) ... \u001b[?25l\u001b[?25hdone\n",
            "  Created wheel for pyspark: filename=pyspark-3.3.0-py2.py3-none-any.whl size=281764026 sha256=0ce70cc3a208387f39cb690c19f9404a4b5afbf29bcd66242a9af342c8f22852\n",
            "  Stored in directory: /root/.cache/pip/wheels/7a/8e/1b/f73a52650d2e5f337708d9f6a1750d451a7349a867f928b885\n",
            "Successfully built pyspark\n",
            "Installing collected packages: py4j, pyspark\n",
            "Successfully installed py4j-0.10.9.5 pyspark-3.3.0\n"
          ]
        }
      ]
    },
    {
      "cell_type": "code",
      "source": [
        "from pyspark.sql import SparkSession\n",
        "\n",
        "spark = SparkSession.builder.getOrCreate()"
      ],
      "metadata": {
        "id": "2ME51kM5iRtx"
      },
      "execution_count": null,
      "outputs": []
    },
    {
      "cell_type": "code",
      "source": [
        "#py spark prgm to convert dictnory to serires\n",
        "\n",
        "import pandas as pd\n",
        "d1 = {'a':100, 'b':200, 'c':300 }\n",
        "print(\"Orignial Dictnory\")\n",
        "print(d1)\n",
        "new_series = pd.Series(d1)\n",
        "print(\"Converted Serires\")\n",
        "print(new_series)"
      ],
      "metadata": {
        "colab": {
          "base_uri": "https://localhost:8080/"
        },
        "id": "5cHF7NC3i1pn",
        "outputId": "eaf119b5-84ab-48fd-fb56-1d3e3b0cd6b8"
      },
      "execution_count": null,
      "outputs": [
        {
          "output_type": "stream",
          "name": "stdout",
          "text": [
            "Orignial Dictnory\n",
            "{'a': 100, 'b': 200, 'c': 300}\n",
            "Converted Serires\n",
            "a    100\n",
            "b    200\n",
            "c    300\n",
            "dtype: int64\n"
          ]
        }
      ]
    },
    {
      "cell_type": "code",
      "source": [
        "#Pyspark program - to convert pandas series to arrays\n",
        "\n",
        "import numpy as np\n",
        "\n",
        "import pandas as pd \n",
        "s1 = pd.Series([\"180\", \"200\", \"380\", \"python\", \"300.70\", '400' ])\n",
        "print(\"Original data series\")\n",
        "print(s1)\n",
        "print(\"Series to an Array\")\n",
        "\n",
        "a = np.array(s1.values.tolist())\n",
        "\n",
        "print(a)"
      ],
      "metadata": {
        "colab": {
          "base_uri": "https://localhost:8080/"
        },
        "id": "NxoifxEskgAN",
        "outputId": "c7af249b-1da2-4fa6-918a-c0fbd369894d"
      },
      "execution_count": null,
      "outputs": [
        {
          "output_type": "stream",
          "name": "stdout",
          "text": [
            "Original data series\n",
            "0       180\n",
            "1       200\n",
            "2       380\n",
            "3    python\n",
            "4    300.70\n",
            "5       400\n",
            "dtype: object\n",
            "Series to an Array\n",
            "['180' '200' '380' 'python' '300.70' '400']\n"
          ]
        }
      ]
    },
    {
      "cell_type": "code",
      "source": [
        "#Pyspark program to sort given series\n",
        "\n",
        "import pandas as pd\n",
        "\n",
        "s = pd.Series(['100','200','python','300.12','400','python1','python2','python3','pyspark1','pyspark2','pyspark3'])\n",
        "\n",
        "print(\"Orogina data series\")\n",
        "\n",
        "print(s)\n",
        "\n",
        "new_s = pd.Series(s).sort_values()\n",
        "print(\"sorted series\")\n",
        "\n",
        "print(new_s)"
      ],
      "metadata": {
        "colab": {
          "base_uri": "https://localhost:8080/"
        },
        "id": "ceiflbriv792",
        "outputId": "7cc66b8b-0221-4ba4-8dc5-55e73e30885f"
      },
      "execution_count": null,
      "outputs": [
        {
          "output_type": "stream",
          "name": "stdout",
          "text": [
            "Orogina data series\n",
            "0          100\n",
            "1          200\n",
            "2       python\n",
            "3       300.12\n",
            "4          400\n",
            "5      python1\n",
            "6      python2\n",
            "7      python3\n",
            "8     pyspark1\n",
            "9     pyspark2\n",
            "10    pyspark3\n",
            "dtype: object\n",
            "sorted series\n",
            "0          100\n",
            "1          200\n",
            "3       300.12\n",
            "4          400\n",
            "8     pyspark1\n",
            "9     pyspark2\n",
            "10    pyspark3\n",
            "2       python\n",
            "5      python1\n",
            "6      python2\n",
            "7      python3\n",
            "dtype: object\n"
          ]
        }
      ]
    },
    {
      "cell_type": "code",
      "source": [
        "#Pyspark change the order order of index of given serire\n",
        "\n",
        "import pandas as pd\n",
        "\n",
        "s = pd.Series(data = [1,2,3,4,5]), index = [' A', 'B','C','D', 'E']\n",
        "print(\"Orignal seirs\")\n",
        "print(s)\n"
      ],
      "metadata": {
        "id": "4NIr9Ktwx3lt"
      },
      "execution_count": null,
      "outputs": []
    },
    {
      "cell_type": "code",
      "source": [
        "import pandas as pd\n",
        "import numpy as np\n",
        "\n",
        "num_state = np.random.RandomState(100)\n",
        "num_series = pd.Series(num_state.normal(10,4,20))\n",
        "print(num_series)"
      ],
      "metadata": {
        "colab": {
          "base_uri": "https://localhost:8080/"
        },
        "id": "2_cmVGNN9uSv",
        "outputId": "a45b6f0a-4f1f-4b31-ac47-b2de8f64bf03"
      },
      "execution_count": null,
      "outputs": [
        {
          "output_type": "stream",
          "name": "stdout",
          "text": [
            "0      3.000938\n",
            "1     11.370722\n",
            "2     14.612143\n",
            "3      8.990256\n",
            "4     13.925283\n",
            "5     12.056875\n",
            "6     10.884719\n",
            "7      5.719827\n",
            "8      9.242017\n",
            "9     11.020006\n",
            "10     8.167892\n",
            "11    11.740654\n",
            "12     7.665620\n",
            "13    13.267388\n",
            "14    12.690883\n",
            "15     9.582355\n",
            "16     7.874878\n",
            "17    14.118931\n",
            "18     8.247458\n",
            "19     5.526727\n",
            "dtype: float64\n"
          ]
        }
      ]
    },
    {
      "cell_type": "code",
      "source": [
        "#Pyspark getting postions of given series \n",
        "import pandas as pd \n",
        "\n",
        "Series1 = pd.Series([1,2,3,4,5,6,7,8,9,10]) \n",
        "Series2 = pd.Series([1,3,5,7,10])\n",
        "print(\"original series\")\n",
        "print(Series1)\n",
        "print(Series2)\n",
        "\n",
        "result = [pd.Index(Series1).get_loc(1) for i in Series2]\n",
        "print(\"Positions of stess of series2 in seccess\")\n",
        "print(result)\n"
      ],
      "metadata": {
        "colab": {
          "base_uri": "https://localhost:8080/"
        },
        "id": "NjuK7mfYIx1N",
        "outputId": "67ad1988-e5a1-48d4-9fa5-71c39b178275"
      },
      "execution_count": null,
      "outputs": [
        {
          "output_type": "stream",
          "name": "stdout",
          "text": [
            "original series\n",
            "0     1\n",
            "1     2\n",
            "2     3\n",
            "3     4\n",
            "4     5\n",
            "5     6\n",
            "6     7\n",
            "7     8\n",
            "8     9\n",
            "9    10\n",
            "dtype: int64\n",
            "0     1\n",
            "1     3\n",
            "2     5\n",
            "3     7\n",
            "4    10\n",
            "dtype: int64\n",
            "Positions of stess of series2 in seccess\n",
            "[0, 0, 0, 0, 0]\n"
          ]
        }
      ]
    },
    {
      "cell_type": "code",
      "source": [
        "#pyspark - program to select specific range\n",
        "\n",
        "import pandas as pd\n",
        "\n",
        "import numpy as np\n",
        "\n",
        "exam_data = { 'name': ['Anderson', 'dima', 'Katherine', 'James', 'Emily',\n",
        "\n",
        "                     'Michael', 'Mathew','laura', 'Kevin', 'Jonas'],\n",
        "\n",
        "              'score': [12.5, 9,16.5, np.nan, 9,20,14.5, np.nan, 8,9],\n",
        "\n",
        "              'attemps': [1,3,2,5,1,1,2,1,1,2],\n",
        "\n",
        "               'qualified' : ['yes', 'No', 'No', 'No', 'yes', 'yes', 'No', 'yes', 'yes', 'No'] } \n",
        "labels= ['a', 'b', 'c', 'd', 'e', 'f','g', 'h', 'i', 'j']\n",
        "\n",
        "df = pd.DataFrame(exam_data, index=labels)\n",
        "\n",
        "print(\"students where score between 15 and 20 (icnlusive):\") \n",
        "print(df[df['score'].between (15,20)])\n",
        "\n"
      ],
      "metadata": {
        "colab": {
          "base_uri": "https://localhost:8080/"
        },
        "id": "Ln1GpedXJfvy",
        "outputId": "ee4b0360-4770-4108-a1c5-eff6b6f7b6f2"
      },
      "execution_count": null,
      "outputs": [
        {
          "output_type": "stream",
          "name": "stdout",
          "text": [
            "students where score between 15 and 20 (icnlusive):\n",
            "        name  score  attemps qualified\n",
            "c  Katherine   16.5        2        No\n",
            "f    Michael   20.0        1       yes\n"
          ]
        }
      ]
    },
    {
      "cell_type": "code",
      "source": [
        "print(df['score'].mean())"
      ],
      "metadata": {
        "colab": {
          "base_uri": "https://localhost:8080/"
        },
        "id": "_igU9cgDjsta",
        "outputId": "970716b6-af1d-4bba-dbee-3d6d0d52380a"
      },
      "execution_count": null,
      "outputs": [
        {
          "output_type": "stream",
          "name": "stdout",
          "text": [
            "12.3125\n"
          ]
        }
      ]
    },
    {
      "cell_type": "code",
      "source": [
        "df['name']=df['name'].replace('Jamesh','Suresh')\n",
        "print(df)"
      ],
      "metadata": {
        "colab": {
          "base_uri": "https://localhost:8080/"
        },
        "id": "RfcuRUOSleiE",
        "outputId": "7b0bfbbc-3574-4193-f891-eb9bf57f278e"
      },
      "execution_count": null,
      "outputs": [
        {
          "output_type": "stream",
          "name": "stdout",
          "text": [
            "        name  score  attemps qualified\n",
            "a   Anderson   12.5        1       yes\n",
            "b       dima    9.0        3        No\n",
            "c  Katherine   16.5        2        No\n",
            "d      James    NaN        5        No\n",
            "e      Emily    9.0        1       yes\n",
            "f    Michael   20.0        1       yes\n",
            "g     Mathew   14.5        2        No\n",
            "h      laura    NaN        1       yes\n",
            "i      Kevin    8.0        1       yes\n",
            "j      Jonas    9.0        2        No\n"
          ]
        }
      ]
    },
    {
      "cell_type": "code",
      "source": [
        "\n",
        "\n",
        "#Pyspark- adding extra one row in an existing dataframe\n",
        "import pandas as pd\n",
        "import numpy as np\n",
        "\n",
        "d = {'col1': [1,4,5,6,7], 'col2': [4,5,6,7,8], 'co13': [7,8,9,11,12]}\n",
        "df = pd.DataFrame(data=d)\n",
        "\n",
        "print(\"Original DatFrame\")\n",
        "\n",
        "print(df)\n",
        "\n",
        "print(\"After adding one row:\")\n",
        "\n",
        "df2 = {'col1':10, 'co12':20, 'co13':12}\n",
        "\n",
        "df =df.append(df2,ignore_index=True)\n",
        "\n",
        "print(df)"
      ],
      "metadata": {
        "colab": {
          "base_uri": "https://localhost:8080/"
        },
        "id": "fPZnYP-SnMrv",
        "outputId": "d504ccf1-0ccf-4945-bb5a-0321763de68e"
      },
      "execution_count": null,
      "outputs": [
        {
          "output_type": "stream",
          "name": "stdout",
          "text": [
            "Original DatFrame\n",
            "   col1  col2  co13\n",
            "0     1     4     7\n",
            "1     4     5     8\n",
            "2     5     6     9\n",
            "3     6     7    11\n",
            "4     7     8    12\n",
            "After adding one row:\n",
            "   col1  col2  co13  co12\n",
            "0   1.0   4.0   7.0   NaN\n",
            "1   4.0   5.0   8.0   NaN\n",
            "2   5.0   6.0   9.0   NaN\n",
            "3   6.0   7.0  11.0   NaN\n",
            "4   7.0   8.0  12.0   NaN\n",
            "5  10.0   NaN  12.0  20.0\n"
          ]
        }
      ]
    },
    {
      "cell_type": "code",
      "source": [
        "#Pyspark - checking whether column is existign in the given dataframe or not?\n",
        "import pandas as pd\n",
        "\n",
        "d = {'col1': [1,4,5,6,7], 'col2': [4,5,6,7,8], 'col3': [7,8,9,11,12]}\n",
        "print(\"Original DatFrame\")\n",
        "\n",
        "\n",
        "df = pd.DataFrame(data=d)\n",
        "\n",
        "print(df)\n",
        "\n",
        "if'col4' in df.columns:\n",
        "\n",
        "    print(\"co14 is present in DataFrame\")\n",
        "\n",
        "else:\n",
        "\n",
        "    print(\"co14 is not present in DataFrame\")\n",
        "\n",
        "if'col1' in df.columns:\n",
        "\n",
        "    print(\"coll is present in DataFrame\")\n",
        "\n",
        "else:\n",
        "\n",
        "    print(\"col1 is not present in DataFrame\")"
      ],
      "metadata": {
        "colab": {
          "base_uri": "https://localhost:8080/"
        },
        "id": "O16L4lt2tM6b",
        "outputId": "7c3416ee-7004-4bed-d8cc-811b8bcfbf8a"
      },
      "execution_count": null,
      "outputs": [
        {
          "output_type": "stream",
          "name": "stdout",
          "text": [
            "Original DatFrame\n",
            "   col1  col2  col3\n",
            "0     1     4     7\n",
            "1     4     5     8\n",
            "2     5     6     9\n",
            "3     6     7    11\n",
            "4     7     8    12\n",
            "co14 is not present in DataFrame\n",
            "coll is present in DataFrame\n"
          ]
        }
      ]
    },
    {
      "cell_type": "code",
      "source": [
        ""
      ],
      "metadata": {
        "id": "H-IUCtU6NvaJ"
      },
      "execution_count": null,
      "outputs": []
    },
    {
      "cell_type": "code",
      "source": [
        "import pandas as pd\n",
        "ds = pd.Series([1,2,3,4,5,6,7,8,9,10], index=[0,1,2,3,4,5,6,7,8,9])\n",
        "print(\"Original Series:\")\n",
        "print(ds)\n",
        "print(\"\\nIndex of 5 in the said series:\")\n",
        "x = ds[ds == 5].index[0]\n",
        "print(x)"
      ],
      "metadata": {
        "colab": {
          "base_uri": "https://localhost:8080/"
        },
        "id": "-4Cqi95UA5TO",
        "outputId": "f1ec957c-5326-4e02-bae8-213dc4ef0642"
      },
      "execution_count": null,
      "outputs": [
        {
          "output_type": "stream",
          "name": "stdout",
          "text": [
            "Original Series:\n",
            "0     1\n",
            "1     2\n",
            "2     3\n",
            "3     4\n",
            "4     5\n",
            "5     6\n",
            "6     7\n",
            "7     8\n",
            "8     9\n",
            "9    10\n",
            "dtype: int64\n",
            "\n",
            "Index of 5 in the said series:\n",
            "4\n"
          ]
        }
      ]
    },
    {
      "cell_type": "code",
      "source": [
        "import pandas as pd\n",
        "ds = pd.Series([1,2,3,4,5], index = ['A', 'B','C','D', 'E'])\n",
        "print(\"Original Series:\")\n",
        "print(ds)\n",
        "print(\"Data frame without index:\")\n",
        "print(ds.to_string(index=False))"
      ],
      "metadata": {
        "colab": {
          "base_uri": "https://localhost:8080/"
        },
        "id": "ua6Pwdj4FEEP",
        "outputId": "21b46267-43d1-4145-8c4e-02ae2eafad00"
      },
      "execution_count": null,
      "outputs": [
        {
          "output_type": "stream",
          "name": "stdout",
          "text": [
            "Original Series:\n",
            "A    1\n",
            "B    2\n",
            "C    3\n",
            "D    4\n",
            "E    5\n",
            "dtype: int64\n",
            "Data frame without index:\n",
            "1\n",
            "2\n",
            "3\n",
            "4\n",
            "5\n"
          ]
        }
      ]
    },
    {
      "cell_type": "code",
      "source": [
        "import pandas as pd\n",
        "import numpy as np\n",
        "exam_data = {'name': ['Anastasia', 'Dima', 'Katherine', 'James', 'Emily', 'Michael', 'Matthew', 'Laura', 'Kevin', 'Jonas'],\n",
        "'score': [12.5, 9, 16.5, np.nan, 9, 20, 14.5, np.nan, 8, 19],\n",
        "'attempts': [1, 3, 2, 3, 2, 3, 1, 1, 2, 1],\n",
        "'qualify': ['yes', 'no', 'yes', 'no', 'no', 'yes', 'yes', 'no', 'no', 'yes']}\n",
        "labels = ['a', 'b', 'c', 'd', 'e', 'f', 'g', 'h', 'i', 'j']\n",
        "df = pd.DataFrame(exam_data,index=labels)\n",
        "print('Original rows')\n",
        "print(df)\n",
        "print(\"Chnage the Name from Taj to Suresh\")\n",
        "df['name'] = df['name'].replace('James', 'Ramesh')\n",
        "print(df)\n",
        "print(\"Again changing the name from Ramesh to Ganesh\")\n",
        "\n",
        "df['name'] = df['name'].replace('Ramesh', 'Ganesh')\n",
        "print(df)"
      ],
      "metadata": {
        "colab": {
          "base_uri": "https://localhost:8080/"
        },
        "id": "rmTyj9f1M3qK",
        "outputId": "c93077e6-6620-4ae5-b088-cb2298de62ec"
      },
      "execution_count": null,
      "outputs": [
        {
          "output_type": "stream",
          "name": "stdout",
          "text": [
            "Original rows\n",
            "        name  score  attempts qualify\n",
            "a  Anastasia   12.5         1     yes\n",
            "b       Dima    9.0         3      no\n",
            "c  Katherine   16.5         2     yes\n",
            "d      James    NaN         3      no\n",
            "e      Emily    9.0         2      no\n",
            "f    Michael   20.0         3     yes\n",
            "g    Matthew   14.5         1     yes\n",
            "h      Laura    NaN         1      no\n",
            "i      Kevin    8.0         2      no\n",
            "j      Jonas   19.0         1     yes\n",
            "Chnage the Name from Taj to Suresh\n",
            "        name  score  attempts qualify\n",
            "a  Anastasia   12.5         1     yes\n",
            "b       Dima    9.0         3      no\n",
            "c  Katherine   16.5         2     yes\n",
            "d     Ramesh    NaN         3      no\n",
            "e      Emily    9.0         2      no\n",
            "f    Michael   20.0         3     yes\n",
            "g    Matthew   14.5         1     yes\n",
            "h      Laura    NaN         1      no\n",
            "i      Kevin    8.0         2      no\n",
            "j      Jonas   19.0         1     yes\n",
            "Again changing the name from Ramesh to Ganesh\n",
            "        name  score  attempts qualify\n",
            "a  Anastasia   12.5         1     yes\n",
            "b       Dima    9.0         3      no\n",
            "c  Katherine   16.5         2     yes\n",
            "d     Ganesh    NaN         3      no\n",
            "e      Emily    9.0         2      no\n",
            "f    Michael   20.0         3     yes\n",
            "g    Matthew   14.5         1     yes\n",
            "h      Laura    NaN         1      no\n",
            "i      Kevin    8.0         2      no\n",
            "j      Jonas   19.0         1     yes\n"
          ]
        }
      ]
    },
    {
      "cell_type": "code",
      "source": [
        "import pandas as pd\n",
        "import numpy as np\n",
        "exam_data  = {'name': ['Anastasia', 'Dima', 'Katherine', 'James', 'Emily', \n",
        "                       'Michael', 'Matthew', 'Laura', 'Kevin', 'Jonas'],\n",
        "        'score': [12.5, 9, 16.5, np.nan, 9, 20, 14.5, np.nan, 8, 19],\n",
        "        'attempts': [1, 3, 2, 3, 2, 3, 1, 1, 2, 1],\n",
        "        'qualify': ['yes', 'no', 'yes', 'no', 'no', 'yes', \n",
        "                    'yes', 'no', 'no', 'yes']}\n",
        "labels = ['a', 'b', 'c', 'd', 'e', 'f', 'g', 'h', 'i', 'j']\n",
        "\n",
        "df = pd.DataFrame(exam_data , index=labels)\n",
        "print(\"Rows where score is between 15 and 20 both including:\")\n",
        "print(df[df['score'].between(15, 20)])\n"
      ],
      "metadata": {
        "colab": {
          "base_uri": "https://localhost:8080/"
        },
        "id": "ggyonLixIlM8",
        "outputId": "442d10fa-a0f6-4f91-d6c0-ea78ffa66d20"
      },
      "execution_count": null,
      "outputs": [
        {
          "output_type": "stream",
          "name": "stdout",
          "text": [
            "Rows where score is between 15 and 20 both including:\n",
            "        name  score  attempts qualify\n",
            "c  Katherine   16.5         2     yes\n",
            "f    Michael   20.0         3     yes\n",
            "j      Jonas   19.0         1     yes\n"
          ]
        }
      ]
    },
    {
      "cell_type": "code",
      "source": [
        "import pandas as pd\n",
        "sseries = pd.Series(['Suresh', 'ganesh', 'mahesh', 'Sudarshan'])\n",
        "\n",
        "print(\"Original Series:\")\n",
        "print(sseries)\n",
        "output = sseries.map(lambda x: x[0].upper() + x[1:-1] + x[-1].upper())\n",
        "print(\"\\nFirst and last character of each word in UPPERCASE:\")\n",
        "print(output)"
      ],
      "metadata": {
        "colab": {
          "base_uri": "https://localhost:8080/"
        },
        "id": "JSozmXNxJ6ft",
        "outputId": "15dad567-52ff-4883-979b-0dfddc4aa80f"
      },
      "execution_count": null,
      "outputs": [
        {
          "output_type": "stream",
          "name": "stdout",
          "text": [
            "Original Series:\n",
            "0       Suresh\n",
            "1       ganesh\n",
            "2       mahesh\n",
            "3    Sudarshan\n",
            "dtype: object\n",
            "\n",
            "First and last character of each word in UPPERCASE:\n",
            "0       SuresH\n",
            "1       GanesH\n",
            "2       MahesH\n",
            "3    SudarshaN\n",
            "dtype: object\n"
          ]
        }
      ]
    },
    {
      "cell_type": "code",
      "source": [
        ""
      ],
      "metadata": {
        "id": "NTS6LhqqqEaq"
      },
      "execution_count": null,
      "outputs": []
    },
    {
      "cell_type": "code",
      "source": [
        ""
      ],
      "metadata": {
        "id": "5_LJoilDwl4r"
      },
      "execution_count": null,
      "outputs": []
    },
    {
      "cell_type": "markdown",
      "source": [
        "# New Section"
      ],
      "metadata": {
        "id": "WMFC8dguvoCN"
      }
    },
    {
      "cell_type": "code",
      "source": [
        "import pandas as pd\n",
        "\n",
        "df = pd.read_excel('/content/excle.xlsx')\n",
        "\n",
        "print(df)"
      ],
      "metadata": {
        "colab": {
          "base_uri": "https://localhost:8080/"
        },
        "id": "XfAFIZpHp91t",
        "outputId": "0e2b1155-09fc-436b-ee47-1958e42f6391"
      },
      "execution_count": null,
      "outputs": [
        {
          "output_type": "stream",
          "name": "stdout",
          "text": [
            "   Student_ID Student_Name        Email_ID   Address\n",
            "0        1001        pritam  abc@gmail.com  AxisBank\n",
            "1        1002         manit  abc@gmail.com  AxisBank\n",
            "2        1003      prashant  abc@gmail.com  AxisBank\n",
            "3       10004         rahul  abc@gmail.com  AxisBank\n"
          ]
        }
      ]
    },
    {
      "cell_type": "code",
      "source": [
        "import pandas as pd\n",
        "\n",
        "cols = [0,1,2,3,4]\n",
        "df = pd.read_excel('/content/excle.xlsx', usecols=cols)\n",
        "\n",
        "df"
      ],
      "metadata": {
        "colab": {
          "base_uri": "https://localhost:8080/",
          "height": 248
        },
        "id": "bKeNFfIiwUi7",
        "outputId": "9298e8be-a2e3-425d-ba90-80426d7a426b"
      },
      "execution_count": null,
      "outputs": [
        {
          "output_type": "stream",
          "name": "stderr",
          "text": [
            "/usr/local/lib/python3.7/dist-packages/pandas/io/excel/_base.py:1292: FutureWarning: Defining usecols with out of bounds indices is deprecated and will raise a ParserError in a future version.\n",
            "  **kwds,\n"
          ]
        },
        {
          "output_type": "execute_result",
          "data": {
            "text/plain": [
              "   Student_ID Student_Name        Email_ID   Address\n",
              "0        1001        pritam  abc@gmail.com  AxisBank\n",
              "1        1002         manit  abc@gmail.com  AxisBank\n",
              "2        1003      prashant  abc@gmail.com  AxisBank\n",
              "3       10004         rahul  abc@gmail.com  AxisBank"
            ],
            "text/html": [
              "\n",
              "  <div id=\"df-90315cfe-96d1-4f5e-92a9-dfd89793d4c0\">\n",
              "    <div class=\"colab-df-container\">\n",
              "      <div>\n",
              "<style scoped>\n",
              "    .dataframe tbody tr th:only-of-type {\n",
              "        vertical-align: middle;\n",
              "    }\n",
              "\n",
              "    .dataframe tbody tr th {\n",
              "        vertical-align: top;\n",
              "    }\n",
              "\n",
              "    .dataframe thead th {\n",
              "        text-align: right;\n",
              "    }\n",
              "</style>\n",
              "<table border=\"1\" class=\"dataframe\">\n",
              "  <thead>\n",
              "    <tr style=\"text-align: right;\">\n",
              "      <th></th>\n",
              "      <th>Student_ID</th>\n",
              "      <th>Student_Name</th>\n",
              "      <th>Email_ID</th>\n",
              "      <th>Address</th>\n",
              "    </tr>\n",
              "  </thead>\n",
              "  <tbody>\n",
              "    <tr>\n",
              "      <th>0</th>\n",
              "      <td>1001</td>\n",
              "      <td>pritam</td>\n",
              "      <td>abc@gmail.com</td>\n",
              "      <td>AxisBank</td>\n",
              "    </tr>\n",
              "    <tr>\n",
              "      <th>1</th>\n",
              "      <td>1002</td>\n",
              "      <td>manit</td>\n",
              "      <td>abc@gmail.com</td>\n",
              "      <td>AxisBank</td>\n",
              "    </tr>\n",
              "    <tr>\n",
              "      <th>2</th>\n",
              "      <td>1003</td>\n",
              "      <td>prashant</td>\n",
              "      <td>abc@gmail.com</td>\n",
              "      <td>AxisBank</td>\n",
              "    </tr>\n",
              "    <tr>\n",
              "      <th>3</th>\n",
              "      <td>10004</td>\n",
              "      <td>rahul</td>\n",
              "      <td>abc@gmail.com</td>\n",
              "      <td>AxisBank</td>\n",
              "    </tr>\n",
              "  </tbody>\n",
              "</table>\n",
              "</div>\n",
              "      <button class=\"colab-df-convert\" onclick=\"convertToInteractive('df-90315cfe-96d1-4f5e-92a9-dfd89793d4c0')\"\n",
              "              title=\"Convert this dataframe to an interactive table.\"\n",
              "              style=\"display:none;\">\n",
              "        \n",
              "  <svg xmlns=\"http://www.w3.org/2000/svg\" height=\"24px\"viewBox=\"0 0 24 24\"\n",
              "       width=\"24px\">\n",
              "    <path d=\"M0 0h24v24H0V0z\" fill=\"none\"/>\n",
              "    <path d=\"M18.56 5.44l.94 2.06.94-2.06 2.06-.94-2.06-.94-.94-2.06-.94 2.06-2.06.94zm-11 1L8.5 8.5l.94-2.06 2.06-.94-2.06-.94L8.5 2.5l-.94 2.06-2.06.94zm10 10l.94 2.06.94-2.06 2.06-.94-2.06-.94-.94-2.06-.94 2.06-2.06.94z\"/><path d=\"M17.41 7.96l-1.37-1.37c-.4-.4-.92-.59-1.43-.59-.52 0-1.04.2-1.43.59L10.3 9.45l-7.72 7.72c-.78.78-.78 2.05 0 2.83L4 21.41c.39.39.9.59 1.41.59.51 0 1.02-.2 1.41-.59l7.78-7.78 2.81-2.81c.8-.78.8-2.07 0-2.86zM5.41 20L4 18.59l7.72-7.72 1.47 1.35L5.41 20z\"/>\n",
              "  </svg>\n",
              "      </button>\n",
              "      \n",
              "  <style>\n",
              "    .colab-df-container {\n",
              "      display:flex;\n",
              "      flex-wrap:wrap;\n",
              "      gap: 12px;\n",
              "    }\n",
              "\n",
              "    .colab-df-convert {\n",
              "      background-color: #E8F0FE;\n",
              "      border: none;\n",
              "      border-radius: 50%;\n",
              "      cursor: pointer;\n",
              "      display: none;\n",
              "      fill: #1967D2;\n",
              "      height: 32px;\n",
              "      padding: 0 0 0 0;\n",
              "      width: 32px;\n",
              "    }\n",
              "\n",
              "    .colab-df-convert:hover {\n",
              "      background-color: #E2EBFA;\n",
              "      box-shadow: 0px 1px 2px rgba(60, 64, 67, 0.3), 0px 1px 3px 1px rgba(60, 64, 67, 0.15);\n",
              "      fill: #174EA6;\n",
              "    }\n",
              "\n",
              "    [theme=dark] .colab-df-convert {\n",
              "      background-color: #3B4455;\n",
              "      fill: #D2E3FC;\n",
              "    }\n",
              "\n",
              "    [theme=dark] .colab-df-convert:hover {\n",
              "      background-color: #434B5C;\n",
              "      box-shadow: 0px 1px 3px 1px rgba(0, 0, 0, 0.15);\n",
              "      filter: drop-shadow(0px 1px 2px rgba(0, 0, 0, 0.3));\n",
              "      fill: #FFFFFF;\n",
              "    }\n",
              "  </style>\n",
              "\n",
              "      <script>\n",
              "        const buttonEl =\n",
              "          document.querySelector('#df-90315cfe-96d1-4f5e-92a9-dfd89793d4c0 button.colab-df-convert');\n",
              "        buttonEl.style.display =\n",
              "          google.colab.kernel.accessAllowed ? 'block' : 'none';\n",
              "\n",
              "        async function convertToInteractive(key) {\n",
              "          const element = document.querySelector('#df-90315cfe-96d1-4f5e-92a9-dfd89793d4c0');\n",
              "          const dataTable =\n",
              "            await google.colab.kernel.invokeFunction('convertToInteractive',\n",
              "                                                     [key], {});\n",
              "          if (!dataTable) return;\n",
              "\n",
              "          const docLinkHtml = 'Like what you see? Visit the ' +\n",
              "            '<a target=\"_blank\" href=https://colab.research.google.com/notebooks/data_table.ipynb>data table notebook</a>'\n",
              "            + ' to learn more about interactive tables.';\n",
              "          element.innerHTML = '';\n",
              "          dataTable['output_type'] = 'display_data';\n",
              "          await google.colab.output.renderOutput(dataTable, element);\n",
              "          const docLink = document.createElement('div');\n",
              "          docLink.innerHTML = docLinkHtml;\n",
              "          element.appendChild(docLink);\n",
              "        }\n",
              "      </script>\n",
              "    </div>\n",
              "  </div>\n",
              "  "
            ]
          },
          "metadata": {},
          "execution_count": 3
        }
      ]
    },
    {
      "cell_type": "code",
      "source": [
        ""
      ],
      "metadata": {
        "id": "TmDQYcvRw9VL"
      },
      "execution_count": null,
      "outputs": []
    },
    {
      "cell_type": "code",
      "source": [
        "# Spark - Mlib: Sample ML. algorithm to predict the House price based on house size,\n",
        "\n",
        "#Library import\n",
        "\n",
        "import matplotlib.pyplot as plt\n",
        "import numpy as np\n",
        "from sklearn import linear_model \n",
        "# M1 library for linear regression\n",
        "\n",
        "#loading datasets\n",
        "\n",
        "house_prices=[245, 312,279, 308, 199,219,405,319,324,255]\n",
        "house_size=[1400, 1600, 1700, 1100,1550,2350,2450, 1425,1700,1875]\n",
        "print(house_size)\n",
        "\n",
        "#reshaping data to input\n",
        "new_house_size=np.array(house_size).reshape((-1,1))\n",
        "print(new_house_size)\n",
        "\n",
        "#load the model\n",
        "print(new_house_size)\n",
        "\n",
        "#load the model\n",
        "reg_model=linear_model.LinearRegression()\n",
        "\n",
        "#sit data into model\n",
        "reg_model.fit(new_house_size, house_prices)\n",
        "\n",
        "#Co-efficients\n",
        "print(\"Coefficients: \", reg_model.coef_) # (reg_model.coef_as 'm' in y = m*x + c)\n",
        "\n",
        "#intercept\n",
        "print(\"Intercept :\", reg_model.intercept_) # (reg_model intercep as 'c\" in y = mx + c)\n",
        "\n",
        "def graph(formula, x_range):\n",
        "\n",
        "   x=np.array(x_range) \n",
        "   y=eval(formula)\n",
        "   plt.plot(x,y)\n",
        "\n",
        "#platting the predictions\n",
        "\n",
        "graph('reg_model.coef_*x + reg_model.intercept_', range(1000,2700)) \n",
        "plt.scatter(new_house_size, house_prices, color=\"black\")\n",
        "\n",
        "plt.ylabel(\"House prices\")\n",
        "plt.xlabel(\"House sizes\")\n",
        "plt.show()\n"
      ],
      "metadata": {
        "colab": {
          "base_uri": "https://localhost:8080/",
          "height": 678
        },
        "id": "1B-dYZZr5S76",
        "outputId": "d62fae65-09d7-4bcd-f421-93b4ae577526"
      },
      "execution_count": null,
      "outputs": [
        {
          "output_type": "stream",
          "name": "stdout",
          "text": [
            "[1400, 1600, 1700, 1100, 1550, 2350, 2450, 1425, 1700, 1875]\n",
            "[[1400]\n",
            " [1600]\n",
            " [1700]\n",
            " [1100]\n",
            " [1550]\n",
            " [2350]\n",
            " [2450]\n",
            " [1425]\n",
            " [1700]\n",
            " [1875]]\n",
            "[[1400]\n",
            " [1600]\n",
            " [1700]\n",
            " [1100]\n",
            " [1550]\n",
            " [2350]\n",
            " [2450]\n",
            " [1425]\n",
            " [1700]\n",
            " [1875]]\n",
            "Coefficients:  [0.02588291]\n",
            "Intercept : 242.1108017817372\n"
          ]
        },
        {
          "output_type": "display_data",
          "data": {
            "text/plain": [
              "<Figure size 432x288 with 1 Axes>"
            ],
            "image/png": "[encoded data removed]"
          },
          "metadata": {
            "needs_background": "light"
          }
        }
      ]
    },
    {
      "cell_type": "code",
      "source": [
        "#Spark Mlib:\n",
        "\n",
        "#plotting sampel Mlib grap\n",
        "\n",
        "import matplotlib.pyplot as plt\n",
        "\n",
        "x= [1,2,3,4,5,6,7,8,9,11,12,13,14,15]\n",
        "\n",
        "y =[11,22,33,44,55,66,77,8,9,111,122,133, 144, 155]\n",
        "\n",
        "plt.scatter(x,y) \n",
        "plt.show()"
      ],
      "metadata": {
        "colab": {
          "base_uri": "https://localhost:8080/",
          "height": 266
        },
        "id": "2q0Hyug0KGSD",
        "outputId": "9546954a-b0ed-4b63-96ef-060bd2ec679b"
      },
      "execution_count": null,
      "outputs": [
        {
          "output_type": "display_data",
          "data": {
            "text/plain": [
              "<Figure size 432x288 with 1 Axes>"
            ],
            "image/png": "[encoded data removed]"
          },
          "metadata": {
            "needs_background": "light"
          }
        }
      ]
    },
    {
      "cell_type": "code",
      "source": [
        "pip install pyspark"
      ],
      "metadata": {
        "colab": {
          "base_uri": "https://localhost:8080/"
        },
        "id": "eKvAvT031M55",
        "outputId": "4f9a15d7-f3e6-4e00-8e6f-dc21e38dea8f"
      },
      "execution_count": null,
      "outputs": [
        {
          "output_type": "stream",
          "name": "stdout",
          "text": [
            "Looking in indexes: https://pypi.org/simple, https://us-python.pkg.dev/colab-wheels/public/simple/\n",
            "Requirement already satisfied: pyspark in /usr/local/lib/python3.7/dist-packages (3.3.0)\n",
            "Requirement already satisfied: py4j==0.10.9.5 in /usr/local/lib/python3.7/dist-packages (from pyspark) (0.10.9.5)\n"
          ]
        }
      ]
    },
    {
      "cell_type": "code",
      "source": [
        ""
      ],
      "metadata": {
        "id": "lAeLgiqFQ3wv"
      },
      "execution_count": null,
      "outputs": []
    },
    {
      "cell_type": "code",
      "source": [
        "#Spark Mlib: K-means \n",
        "#K-means is an unsupervised learning method for clustring data points\n",
        " #The algorithm iteratively divides data points into\n",
        "import matplotlib.pyplot as plt\n",
        "\n",
        "x = [10,14,4,3,10,12,7,8,9,10] \n",
        "\n",
        "y = [21,18,17,25,24,21,36,10,20,21]\n",
        "\n",
        "plt.scatter(x,y)\n",
        "\n",
        "plt.show()"
      ],
      "metadata": {
        "colab": {
          "base_uri": "https://localhost:8080/",
          "height": 265
        },
        "id": "ujEEWV-e8Khx",
        "outputId": "6415011c-24cf-4f2f-86d2-28ed23cbced9"
      },
      "execution_count": null,
      "outputs": [
        {
          "output_type": "display_data",
          "data": {
            "text/plain": [
              "<Figure size 432x288 with 1 Axes>"
            ],
            "image/png": "[encoded data removed]"
          },
          "metadata": {
            "needs_background": "light"
          }
        }
      ]
    },
    {
      "cell_type": "code",
      "source": [
        "import matplotlib.pyplot as plt\n",
        "from sklearn.cluster import KMeans\n",
        "\n",
        "data = list(zip(x,y))\n",
        "\n",
        "inertias = []\n",
        "\n",
        "for i in range(1, 11):\n",
        "\n",
        "   kmeans = KMeans(n_clusters=i)\n",
        "   kmeans.fit(data)\n",
        "   inertias.append(kmeans.inertia_)\n",
        "\n",
        "plt.plot(range(1,11), inertias, marker='o' )\n",
        "\n",
        "plt.title(\"Elbow method\")\n",
        "\n",
        "plt.xlabel('Number of clusters')\n",
        "\n",
        "plt.ylabel(\"Inertia\")\n",
        "\n",
        "plt.show()"
      ],
      "metadata": {
        "colab": {
          "base_uri": "https://localhost:8080/",
          "height": 350
        },
        "id": "pfOg9KCl1mlL",
        "outputId": "52ace23e-a6ee-497b-a31a-8fc19cada14c"
      },
      "execution_count": null,
      "outputs": [
        {
          "output_type": "stream",
          "name": "stderr",
          "text": [
            "/usr/local/lib/python3.7/dist-packages/ipykernel_launcher.py:11: ConvergenceWarning: Number of distinct clusters (9) found smaller than n_clusters (10). Possibly due to duplicate points in X.\n",
            "  # This is added back by InteractiveShellApp.init_path()\n"
          ]
        },
        {
          "output_type": "display_data",
          "data": {
            "text/plain": [
              "<Figure size 432x288 with 1 Axes>"
            ],
            "image/png": "[encoded data removed]"
          },
          "metadata": {
            "needs_background": "light"
          }
        }
      ]
    },
    {
      "cell_type": "code",
      "source": [
        "\n",
        "kmeans = KMeans(n_clusters=10)\n",
        "kmeans.fit(data)\n",
        "plt.scatter(x,y, c=kmeans.labels_)\n",
        "plt.show()"
      ],
      "metadata": {
        "colab": {
          "base_uri": "https://localhost:8080/",
          "height": 320
        },
        "id": "aQ6okpoM-t0T",
        "outputId": "d5f3127d-4cb0-4c1f-c656-59693762b023"
      },
      "execution_count": null,
      "outputs": [
        {
          "output_type": "stream",
          "name": "stderr",
          "text": [
            "/usr/local/lib/python3.7/dist-packages/ipykernel_launcher.py:3: ConvergenceWarning: Number of distinct clusters (9) found smaller than n_clusters (10). Possibly due to duplicate points in X.\n",
            "  This is separate from the ipykernel package so we can avoid doing imports until\n"
          ]
        },
        {
          "output_type": "display_data",
          "data": {
            "text/plain": [
              "<Figure size 432x288 with 1 Axes>"
            ],
            "image/png": "[encoded data removed]"
          },
          "metadata": {
            "needs_background": "light"
          }
        }
      ]
    },
    {
      "cell_type": "code",
      "source": [
        "#Lets fit KNN algorithm with K= 1\n",
        "\n",
        "from sklearn.neighbors import KNeighborsClassifier\n",
        "\n",
        "data = list(zip(x,y))\n",
        "\n",
        "knn = KNeighborsClassifier(n_neighbors=1)\n",
        "\n",
        "knn.fit(data, classes)"
      ],
      "metadata": {
        "colab": {
          "base_uri": "https://localhost:8080/",
          "height": 200
        },
        "id": "APjMGTjGFGCw",
        "outputId": "1942010f-b1dc-4b24-a5e5-b6feda1d8c74"
      },
      "execution_count": null,
      "outputs": [
        {
          "output_type": "error",
          "ename": "NameError",
          "evalue": "ignored",
          "traceback": [
            "\u001b[0;31m---------------------------------------------------------------------------\u001b[0m",
            "\u001b[0;31mNameError\u001b[0m                                 Traceback (most recent call last)",
            "\u001b[0;32m<ipython-input-19-275f8318d095>\u001b[0m in \u001b[0;36m<module>\u001b[0;34m()\u001b[0m\n\u001b[1;32m      7\u001b[0m \u001b[0mknn\u001b[0m \u001b[0;34m=\u001b[0m \u001b[0mKNeighborsClassifier\u001b[0m\u001b[0;34m(\u001b[0m\u001b[0mn_neighbors\u001b[0m\u001b[0;34m=\u001b[0m\u001b[0;36m1\u001b[0m\u001b[0;34m)\u001b[0m\u001b[0;34m\u001b[0m\u001b[0;34m\u001b[0m\u001b[0m\n\u001b[1;32m      8\u001b[0m \u001b[0;34m\u001b[0m\u001b[0m\n\u001b[0;32m----> 9\u001b[0;31m \u001b[0mknn\u001b[0m\u001b[0;34m.\u001b[0m\u001b[0mfit\u001b[0m\u001b[0;34m(\u001b[0m\u001b[0mdata\u001b[0m\u001b[0;34m,\u001b[0m \u001b[0mclasses\u001b[0m\u001b[0;34m)\u001b[0m\u001b[0;34m\u001b[0m\u001b[0;34m\u001b[0m\u001b[0m\n\u001b[0m",
            "\u001b[0;31mNameError\u001b[0m: name 'classes' is not defined"
          ]
        }
      ]
    },
    {
      "cell_type": "code",
      "source": [
        "import matplotlib"
      ],
      "metadata": {
        "id": "4WQHkglXQ5Hp"
      },
      "execution_count": 1,
      "outputs": []
    },
    {
      "cell_type": "code",
      "source": [
        "print(matplotlib.__version__)"
      ],
      "metadata": {
        "colab": {
          "base_uri": "https://localhost:8080/"
        },
        "id": "u0ZD-fpJyYu4",
        "outputId": "e7fa024e-355f-4773-9778-1b173d3c8d5f"
      },
      "execution_count": 2,
      "outputs": [
        {
          "output_type": "stream",
          "name": "stdout",
          "text": [
            "3.2.2\n"
          ]
        }
      ]
    },
    {
      "cell_type": "code",
      "source": [
        "print(matplotlib)"
      ],
      "metadata": {
        "colab": {
          "base_uri": "https://localhost:8080/"
        },
        "id": "jQKL53ikyjsB",
        "outputId": "922af7f0-e15f-41c6-85f9-849854fa964c"
      },
      "execution_count": 3,
      "outputs": [
        {
          "output_type": "stream",
          "name": "stdout",
          "text": [
            "<module 'matplotlib' from '/usr/local/lib/python3.7/dist-packages/matplotlib/__init__.py'>\n"
          ]
        }
      ]
    },
    {
      "cell_type": "code",
      "source": [
        "import numpy as np\n",
        "import matplotlib.pyplot as plt\n"
      ],
      "metadata": {
        "id": "KTePxZhqyqP2"
      },
      "execution_count": 5,
      "outputs": []
    },
    {
      "cell_type": "code",
      "source": [
        "x= np.array([1,2,3,4])\n",
        "y= np.array([10,20,30,40])\n",
        "plt.plot(x,y)"
      ],
      "metadata": {
        "colab": {
          "base_uri": "https://localhost:8080/",
          "height": 282
        },
        "id": "E9rOYV8dzjwv",
        "outputId": "d23756a9-2fc2-4fae-93de-99f8286949cb"
      },
      "execution_count": 7,
      "outputs": [
        {
          "output_type": "execute_result",
          "data": {
            "text/plain": [
              "[<matplotlib.lines.Line2D at 0x7f1d49eb8350>]"
            ]
          },
          "metadata": {},
          "execution_count": 7
        },
        {
          "output_type": "display_data",
          "data": {
            "text/plain": [
              "<Figure size 432x288 with 1 Axes>"
            ],
            "image/png": "[encoded data removed]"
          },
          "metadata": {
            "needs_background": "light"
          }
        }
      ]
    },
    {
      "cell_type": "code",
      "source": [
        "plt.plot(x,y, color='r')\n"
      ],
      "metadata": {
        "colab": {
          "base_uri": "https://localhost:8080/",
          "height": 265
        },
        "id": "kuSi2aowz8hv",
        "outputId": "27ec47df-8d5b-4728-c07c-e700e7a6d53d"
      },
      "execution_count": 9,
      "outputs": [
        {
          "output_type": "display_data",
          "data": {
            "text/plain": [
              "<Figure size 432x288 with 1 Axes>"
            ],
            "image/png": "[encoded data removed]"
          },
          "metadata": {
            "needs_background": "light"
          }
        }
      ]
    },
    {
      "cell_type": "code",
      "source": [
        "plt.show()"
      ],
      "metadata": {
        "id": "J6vwSTA60pgg"
      },
      "execution_count": 10,
      "outputs": []
    },
    {
      "cell_type": "code",
      "source": [
        "ypoints = np.array([3,9,1,13,5,8])\n",
        "plt.plot(ypoints)\n",
        "plt.show"
      ],
      "metadata": {
        "colab": {
          "base_uri": "https://localhost:8080/",
          "height": 282
        },
        "id": "6MeWLfxy0pjI",
        "outputId": "ad82fe76-6f9c-4aa1-de0d-526fe7c889b6"
      },
      "execution_count": 12,
      "outputs": [
        {
          "output_type": "execute_result",
          "data": {
            "text/plain": [
              "<function matplotlib.pyplot.show>"
            ]
          },
          "metadata": {},
          "execution_count": 12
        },
        {
          "output_type": "display_data",
          "data": {
            "text/plain": [
              "<Figure size 432x288 with 1 Axes>"
            ],
            "image/png": "[encoded data removed]"
          },
          "metadata": {
            "needs_background": "light"
          }
        }
      ]
    },
    {
      "cell_type": "code",
      "source": [
        "days = list(range(0,22, 3))\n",
        "\n",
        "celcius_values = [25.1, 24.6, 28, 27.8, 32.8, 30.5, 32.8, 33.1]\n",
        "\n",
        "plt.plot(days, celcius_values)\n",
        "\n",
        "plt.show()"
      ],
      "metadata": {
        "colab": {
          "base_uri": "https://localhost:8080/",
          "height": 265
        },
        "id": "BIIFgJlb0pnN",
        "outputId": "f95657a5-3d10-4a1a-beaf-6be46fed6b23"
      },
      "execution_count": 14,
      "outputs": [
        {
          "output_type": "display_data",
          "data": {
            "text/plain": [
              "<Figure size 432x288 with 1 Axes>"
            ],
            "image/png": "[encoded data removed]"
          },
          "metadata": {
            "needs_background": "light"
          }
        }
      ]
    },
    {
      "cell_type": "code",
      "source": [
        "n = 256\n",
        "\n",
        "x = np.linspace(-np.pi, np.pi, n, endpoint=True)\n",
        "y = np.cos(2*x) \n",
        "plt.plot(x,y, color='blue', alpha=1.08)\n",
        "\n",
        "plt.fill_between (x,y,0, color=\"blue\", alpha=.1)\n",
        "\n",
        "plt.show()"
      ],
      "metadata": {
        "colab": {
          "base_uri": "https://localhost:8080/",
          "height": 265
        },
        "id": "1ztt0dPv0pqe",
        "outputId": "e0f20ba7-f520-45e9-afca-74f1b2625a59"
      },
      "execution_count": 16,
      "outputs": [
        {
          "output_type": "display_data",
          "data": {
            "text/plain": [
              "<Figure size 432x288 with 1 Axes>"
            ],
            "image/png": "[encoded data removed]"
          },
          "metadata": {
            "needs_background": "light"
          }
        }
      ]
    },
    {
      "cell_type": "code",
      "source": [
        "n = 256\n",
        "\n",
        "x = np.linspace(-np.pi, np.pi, n, endpoint=True)\n",
        "y = np.tan(2*x) \n",
        "plt.plot(x,y, color='blue', alpha=1.08)\n",
        "\n",
        "plt.fill_between (x,y,0, color=\"blue\", alpha=.1)\n",
        "\n",
        "plt.show()"
      ],
      "metadata": {
        "colab": {
          "base_uri": "https://localhost:8080/",
          "height": 265
        },
        "id": "ahrxvHIE0hN3",
        "outputId": "661ac8a7-41ed-441d-b44d-a90dd1f8ecda"
      },
      "execution_count": 17,
      "outputs": [
        {
          "output_type": "display_data",
          "data": {
            "text/plain": [
              "<Figure size 432x288 with 1 Axes>"
            ],
            "image/png": "[encoded data removed]"
          },
          "metadata": {
            "needs_background": "light"
          }
        }
      ]
    },
    {
      "cell_type": "code",
      "source": [
        "#marker\n",
        "\n",
        "x1 = np.array([0,1,2,3])\n",
        "\n",
        "y1= np.array([3,8,1,10])\n",
        "\n",
        "x2 = np.array([0,1,2,3])\n",
        "\n",
        "y2 = np.array([6,2,7,11])\n",
        "\n",
        "plt.plot(x1,y1, x2,y2, marker='o')\n",
        "\n",
        "plt.xlabel(\"profit\")\n",
        "\n",
        "plt.ylabel('month')\n",
        "\n",
        "plt.title( \"Monthly profit\")\n",
        "\n",
        "plt.legend(labels=(\"may\", \"april\"), loc= \"lower right\")\n",
        "\n",
        "plt.show()"
      ],
      "metadata": {
        "colab": {
          "base_uri": "https://localhost:8080/",
          "height": 295
        },
        "id": "ol-rPHpj_dFO",
        "outputId": "d7ff1a9d-15fb-437e-e24b-e4c5b3e7ceaf"
      },
      "execution_count": 22,
      "outputs": [
        {
          "output_type": "display_data",
          "data": {
            "text/plain": [
              "<Figure size 432x288 with 1 Axes>"
            ],
            "image/png": "[encoded data removed]"
          },
          "metadata": {
            "needs_background": "light"
          }
        }
      ]
    },
    {
      "cell_type": "code",
      "source": [
        "#marker\n",
        "\n",
        "x1 = np.array([0,1,2,3])\n",
        "\n",
        "y1= np.array([3,8,1,10])\n",
        "\n",
        "x2 = np.array([0,1,2,3])\n",
        "\n",
        "y2 = np.array([6,2,7,11])\n",
        "\n",
        "plt.plot(x1,y1, x2,y2, marker='o')\n",
        "\n",
        "plt.xlabel(\"profit\")\n",
        "\n",
        "plt.ylabel('month')\n",
        "\n",
        "plt.title( \"Monthly profit\")\n",
        "\n",
        "plt.legend(labels=(\"may\", \"april\"))\n",
        "\n",
        "plt.show()"
      ],
      "metadata": {
        "colab": {
          "base_uri": "https://localhost:8080/",
          "height": 295
        },
        "id": "bBPOjKIyCDfu",
        "outputId": "bb7c47c1-4fe9-4a9f-a5fb-c4317554da6e"
      },
      "execution_count": 23,
      "outputs": [
        {
          "output_type": "display_data",
          "data": {
            "text/plain": [
              "<Figure size 432x288 with 1 Axes>"
            ],
            "image/png": "[encoded data removed]"
          },
          "metadata": {
            "needs_background": "light"
          }
        }
      ]
    },
    {
      "cell_type": "code",
      "source": [
        "import matplotlib.pyplot as plt\n",
        "\n",
        "y = [1,4,9,16,25,36,49,64]\n",
        "\n",
        "x1 = [1,16,30,42,55,68,77,88]\n",
        "\n",
        "x2 = [1,6,12,18,28,40,52,65] \n",
        "\n",
        "plt.plot(x1,y, 'ys-')\n",
        "\n",
        "plt.plot(x2,y, \"go--\")\n",
        "\n",
        "plt.legend (labels=(\"tv\", \"Smartphone\"), loc='lower right')\n",
        "\n",
        "plt.grid(True)\n",
        "\n",
        "plt.title(\"Product Sales\")\n",
        "\n",
        "plt.xlabel(\"medium\")\n",
        "plt.ylabel('sales')\n",
        "plt.show()"
      ],
      "metadata": {
        "colab": {
          "base_uri": "https://localhost:8080/",
          "height": 295
        },
        "id": "9wEn1MD6DPDe",
        "outputId": "77621727-21df-4b22-87ed-82e1c6895e79"
      },
      "execution_count": 25,
      "outputs": [
        {
          "output_type": "display_data",
          "data": {
            "text/plain": [
              "<Figure size 432x288 with 1 Axes>"
            ],
            "image/png": "[encoded data removed]"
          },
          "metadata": {
            "needs_background": "light"
          }
        }
      ]
    },
    {
      "cell_type": "code",
      "source": [
        "# Employee performance\n",
        "\n",
        "x = ['Ramesh', 'Suresh', 'Mahesh', 'Prashant']\n",
        "\n",
        "y = [900, 800, 780, 980]\n",
        "\n",
        "plt.bar(x,y, color='r')\n",
        "\n",
        "plt.show()"
      ],
      "metadata": {
        "colab": {
          "base_uri": "https://localhost:8080/",
          "height": 265
        },
        "id": "mI9AvKLBDPGG",
        "outputId": "8ee9cf1b-d8d3-440c-9689-54e9a49f7d78"
      },
      "execution_count": 26,
      "outputs": [
        {
          "output_type": "display_data",
          "data": {
            "text/plain": [
              "<Figure size 432x288 with 1 Axes>"
            ],
            "image/png": "[encoded data removed]"
          },
          "metadata": {
            "needs_background": "light"
          }
        }
      ]
    },
    {
      "cell_type": "code",
      "source": [
        "# Employee performance\n",
        "\n",
        "x = ['Ramesh', 'Suresh', 'Mahesh', 'Prashant']\n",
        "\n",
        "y = [900, 800, 780, 980]\n",
        "\n",
        "plt.barh(x,y, color='orange')\n",
        "\n",
        "plt.show()"
      ],
      "metadata": {
        "colab": {
          "base_uri": "https://localhost:8080/",
          "height": 265
        },
        "id": "DGcHTYBLDPIr",
        "outputId": "a4342989-4fa7-4e87-a349-f9ab71c618de"
      },
      "execution_count": 28,
      "outputs": [
        {
          "output_type": "display_data",
          "data": {
            "text/plain": [
              "<Figure size 432x288 with 1 Axes>"
            ],
            "image/png": "[encoded data removed]"
          },
          "metadata": {
            "needs_background": "light"
          }
        }
      ]
    },
    {
      "cell_type": "code",
      "source": [
        "# Employee performance\n",
        "\n",
        "x = ['Ramesh', 'Suresh', 'Mahesh', 'Prashant']\n",
        "\n",
        "y = [900, 800, 780, 980]\n",
        "\n",
        "plt.bar(x,y, color='#4caf10', width=0.2)\n",
        "\n",
        "plt.show()"
      ],
      "metadata": {
        "colab": {
          "base_uri": "https://localhost:8080/",
          "height": 265
        },
        "id": "aC1V0PJRDPLK",
        "outputId": "00a78c71-b4c3-4bf8-ff34-3795c4343fdc"
      },
      "execution_count": 30,
      "outputs": [
        {
          "output_type": "display_data",
          "data": {
            "text/plain": [
              "<Figure size 432x288 with 1 Axes>"
            ],
            "image/png": "[encoded data removed]"
          },
          "metadata": {
            "needs_background": "light"
          }
        }
      ]
    },
    {
      "cell_type": "code",
      "source": [
        "# Ind Vs Aus Scores\n",
        "\n",
        "Team1 = [20, 35,30, 35, 27]\n",
        "\n",
        "Team2 = [25, 12, 34, 20, 25] \n",
        "\n",
        "group = np.arange(5)\n",
        "\n",
        "plt.bar(group, Team1, width=.35, color='y')\n",
        "\n",
        "plt.bar(group, Team2, width=.35, bottom = Team1, color='b') \n",
        "\n",
        "plt.xlabel('Scores')\n",
        "\n",
        "plt.ylabel('Groups')\n",
        "\n",
        "plt.title('Cricket Scores by Ind Vs Aus')\n",
        "\n",
        "plt.xticks(group, ('G1', 'G2', 'G3', 'G4', 'G5'))\n",
        "\n",
        "plt.yticks(np.arange(0,81,10))\n",
        "\n",
        "plt.legend (labels=['Aus', 'Ind'])\n",
        "\n",
        "plt.show()"
      ],
      "metadata": {
        "colab": {
          "base_uri": "https://localhost:8080/",
          "height": 295
        },
        "id": "eseHkr5cPluU",
        "outputId": "e2fba1bf-dd20-43dd-8e1f-554aec25c456"
      },
      "execution_count": 32,
      "outputs": [
        {
          "output_type": "display_data",
          "data": {
            "text/plain": [
              "<Figure size 432x288 with 1 Axes>"
            ],
            "image/png": "[encoded data removed]"
          },
          "metadata": {
            "needs_background": "light"
          }
        }
      ]
    },
    {
      "cell_type": "code",
      "source": [
        "# Sin & Cos curves in 3D\n",
        "\n",
        "from mpl_toolkits import mplot3d\n",
        "\n",
        "import numpy as np\n",
        "\n",
        "import matplotlib.pyplot as plt\n",
        "\n",
        "fig = plt.figure()\n",
        "\n",
        "ax = plt.axes(projection='3d')\n",
        "\n",
        "z =np.linspace(0,1,100)\n",
        "\n",
        "x =z*np.sin(20*z)\n",
        "\n",
        "y =z*np.cos(20*z)\n",
        "\n",
        "C = x + y\n",
        "\n",
        "ax.scatter(x,y,z, c=c)\n",
        "\n",
        "plt.title('30 line plot')\n",
        "\n",
        "plt.show()"
      ],
      "metadata": {
        "colab": {
          "base_uri": "https://localhost:8080/",
          "height": 466
        },
        "id": "L0aqyiS5RXZ5",
        "outputId": "d6be208a-2f9c-4c7c-d6d9-20e2440f39d0"
      },
      "execution_count": 34,
      "outputs": [
        {
          "output_type": "error",
          "ename": "NameError",
          "evalue": "ignored",
          "traceback": [
            "\u001b[0;31m---------------------------------------------------------------------------\u001b[0m",
            "\u001b[0;31mNameError\u001b[0m                                 Traceback (most recent call last)",
            "\u001b[0;32m<ipython-input-34-b720c6ad18b1>\u001b[0m in \u001b[0;36m<module>\u001b[0;34m()\u001b[0m\n\u001b[1;32m     19\u001b[0m \u001b[0mC\u001b[0m \u001b[0;34m=\u001b[0m \u001b[0mx\u001b[0m \u001b[0;34m+\u001b[0m \u001b[0my\u001b[0m\u001b[0;34m\u001b[0m\u001b[0;34m\u001b[0m\u001b[0m\n\u001b[1;32m     20\u001b[0m \u001b[0;34m\u001b[0m\u001b[0m\n\u001b[0;32m---> 21\u001b[0;31m \u001b[0max\u001b[0m\u001b[0;34m.\u001b[0m\u001b[0mscatter\u001b[0m\u001b[0;34m(\u001b[0m\u001b[0mx\u001b[0m\u001b[0;34m,\u001b[0m\u001b[0my\u001b[0m\u001b[0;34m,\u001b[0m\u001b[0mz\u001b[0m\u001b[0;34m,\u001b[0m \u001b[0mc\u001b[0m\u001b[0;34m=\u001b[0m\u001b[0mc\u001b[0m\u001b[0;34m)\u001b[0m\u001b[0;34m\u001b[0m\u001b[0;34m\u001b[0m\u001b[0m\n\u001b[0m\u001b[1;32m     22\u001b[0m \u001b[0;34m\u001b[0m\u001b[0m\n\u001b[1;32m     23\u001b[0m \u001b[0mplt\u001b[0m\u001b[0;34m.\u001b[0m\u001b[0mtitle\u001b[0m\u001b[0;34m(\u001b[0m\u001b[0;34m'30 line plot'\u001b[0m\u001b[0;34m)\u001b[0m\u001b[0;34m\u001b[0m\u001b[0;34m\u001b[0m\u001b[0m\n",
            "\u001b[0;31mNameError\u001b[0m: name 'c' is not defined"
          ]
        },
        {
          "output_type": "display_data",
          "data": {
            "text/plain": [
              "<Figure size 432x288 with 1 Axes>"
            ],
            "image/png": "[encoded data removed]"
          },
          "metadata": {
            "needs_background": "light"
          }
        }
      ]
    },
    {
      "cell_type": "code",
      "source": [
        ""
      ],
      "metadata": {
        "id": "PtbemT79bQnM"
      },
      "execution_count": null,
      "outputs": []
    }
  ]
}